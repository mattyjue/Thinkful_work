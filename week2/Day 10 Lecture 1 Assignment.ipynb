{
 "cells": [
  {
   "cell_type": "markdown",
   "metadata": {
    "id": "j4BXTaq2Z1MZ"
   },
   "source": [
    "# SQL in Python Assignment"
   ]
  },
  {
   "cell_type": "code",
   "execution_count": 16,
   "metadata": {
    "id": "-0y7sAJFZ1Mb"
   },
   "outputs": [],
   "source": [
    "import pandas as pd\n",
    "from sqlalchemy import *"
   ]
  },
  {
   "cell_type": "markdown",
   "metadata": {
    "id": "JauBVkEEZ1NT"
   },
   "source": [
    "### Connect to the personal database you created yesterday.\n",
    "Remember the way the credentials work:\n",
    "```\n",
    "user = 'postgres' # Replace with your user, if different\n",
    "pwd = 'pAsSwOrD' # Replace with your password\n",
    "host = 'localhost'\n",
    "port = '5432'\n",
    "db = 'postgres' # Replace with your database name, if different\n",
    "```"
   ]
  },
  {
   "cell_type": "code",
   "execution_count": 19,
   "metadata": {
    "id": "AUqXsg2nZ1NU"
   },
   "outputs": [],
   "source": [
    "postgres_user = \"postgres\"\n",
    "postgres_pw = \"postgres\"\n",
    "postgres_host = \"localhost\"\n",
    "postgres_port = \"5433\"\n",
    "postgres_db = \"Personal_DB\"\n",
    "\n",
    "conn_str = \"postgresql://{}:{}@{}:{}/{}\".format(\n",
    "    postgres_user, postgres_pw, postgres_host, postgres_port, postgres_db\n",
    ")\n",
    "\n",
    "engine = create_engine(conn_str)"
   ]
  },
  {
   "cell_type": "markdown",
   "metadata": {
    "id": "qtCZHZT9Z1NZ"
   },
   "source": [
    "### Obtain a list of tables that are in the database."
   ]
  },
  {
   "cell_type": "code",
   "execution_count": 30,
   "metadata": {
    "id": "2eBYTPklZ1Na"
   },
   "outputs": [
    {
     "data": {
      "text/plain": [
       "['vehicles', 'houseprices']"
      ]
     },
     "execution_count": 30,
     "metadata": {},
     "output_type": "execute_result"
    }
   ],
   "source": [
    "houses = engine.execute('SELECT * FROM houseprices LIMIT 10')\n",
    "engine.table_names()"
   ]
  },
  {
   "cell_type": "markdown",
   "metadata": {
    "id": "V_iAGanZZ1Ne"
   },
   "source": [
    "### Obtain a list of all the fields that are in the vehicles table along with the data type of each."
   ]
  },
  {
   "cell_type": "code",
   "execution_count": 63,
   "metadata": {
    "id": "r-9KdZbJZ1Ne",
    "scrolled": true
   },
   "outputs": [
    {
     "data": {
      "text/plain": [
       "[Column('id', BIGINT(), table=<vehicles>),\n",
       " Column('make', TEXT(), table=<vehicles>),\n",
       " Column('model', TEXT(), table=<vehicles>),\n",
       " Column('year', BIGINT(), table=<vehicles>),\n",
       " Column('class', TEXT(), table=<vehicles>),\n",
       " Column('trans', TEXT(), table=<vehicles>),\n",
       " Column('drive', TEXT(), table=<vehicles>),\n",
       " Column('cyl', DOUBLE_PRECISION(precision=53), table=<vehicles>),\n",
       " Column('displ', DOUBLE_PRECISION(precision=53), table=<vehicles>),\n",
       " Column('fuel', TEXT(), table=<vehicles>),\n",
       " Column('hwy', BIGINT(), table=<vehicles>),\n",
       " Column('cty', BIGINT(), table=<vehicles>)]"
      ]
     },
     "execution_count": 63,
     "metadata": {},
     "output_type": "execute_result"
    }
   ],
   "source": [
    "table = Table(\"vehicles\", metadata, autoload=True)\n",
    "list(table.columns)\n"
   ]
  },
  {
   "cell_type": "markdown",
   "metadata": {
    "id": "VLd7otVVZ1Nh"
   },
   "source": [
    "### Write a SELECT query to retrieve all records from the database and load them into a Pandas data frame."
   ]
  },
  {
   "cell_type": "code",
   "execution_count": 44,
   "metadata": {
    "id": "yeV7sCISZ1Ni"
   },
   "outputs": [],
   "source": [
    "query=\"\"\"\n",
    "SELECT *\n",
    "FROM vehicles\n",
    "\"\"\"\n",
    "vehicles = pd.read_sql_query(query, con=conn_str)"
   ]
  },
  {
   "cell_type": "markdown",
   "metadata": {
    "id": "4x5xlGP4Z1Nn"
   },
   "source": [
    "### Create a table that contains all Audi vehicles with a city fuel efficiency greater than 18."
   ]
  },
  {
   "cell_type": "code",
   "execution_count": 66,
   "metadata": {
    "id": "ZHX26MgOZ1No",
    "scrolled": true
   },
   "outputs": [
    {
     "data": {
      "text/html": [
       "<div>\n",
       "<style scoped>\n",
       "    .dataframe tbody tr th:only-of-type {\n",
       "        vertical-align: middle;\n",
       "    }\n",
       "\n",
       "    .dataframe tbody tr th {\n",
       "        vertical-align: top;\n",
       "    }\n",
       "\n",
       "    .dataframe thead th {\n",
       "        text-align: right;\n",
       "    }\n",
       "</style>\n",
       "<table border=\"1\" class=\"dataframe\">\n",
       "  <thead>\n",
       "    <tr style=\"text-align: right;\">\n",
       "      <th></th>\n",
       "      <th>id</th>\n",
       "      <th>make</th>\n",
       "      <th>model</th>\n",
       "      <th>year</th>\n",
       "      <th>class</th>\n",
       "      <th>trans</th>\n",
       "      <th>drive</th>\n",
       "      <th>cyl</th>\n",
       "      <th>displ</th>\n",
       "      <th>fuel</th>\n",
       "      <th>hwy</th>\n",
       "      <th>cty</th>\n",
       "    </tr>\n",
       "  </thead>\n",
       "  <tbody>\n",
       "    <tr>\n",
       "      <th>0</th>\n",
       "      <td>2963</td>\n",
       "      <td>Audi</td>\n",
       "      <td>4000</td>\n",
       "      <td>1987</td>\n",
       "      <td>Subcompact Cars</td>\n",
       "      <td>Automatic 3-spd</td>\n",
       "      <td>Front-Wheel Drive</td>\n",
       "      <td>4.0</td>\n",
       "      <td>1.8</td>\n",
       "      <td>Regular</td>\n",
       "      <td>24</td>\n",
       "      <td>21</td>\n",
       "    </tr>\n",
       "    <tr>\n",
       "      <th>1</th>\n",
       "      <td>2964</td>\n",
       "      <td>Audi</td>\n",
       "      <td>4000</td>\n",
       "      <td>1987</td>\n",
       "      <td>Subcompact Cars</td>\n",
       "      <td>Manual 5-spd</td>\n",
       "      <td>Front-Wheel Drive</td>\n",
       "      <td>4.0</td>\n",
       "      <td>1.8</td>\n",
       "      <td>Regular</td>\n",
       "      <td>28</td>\n",
       "      <td>22</td>\n",
       "    </tr>\n",
       "    <tr>\n",
       "      <th>2</th>\n",
       "      <td>1749</td>\n",
       "      <td>Audi</td>\n",
       "      <td>4000 S</td>\n",
       "      <td>1986</td>\n",
       "      <td>Subcompact Cars</td>\n",
       "      <td>Automatic 3-spd</td>\n",
       "      <td>Front-Wheel Drive</td>\n",
       "      <td>4.0</td>\n",
       "      <td>1.8</td>\n",
       "      <td>Regular</td>\n",
       "      <td>24</td>\n",
       "      <td>21</td>\n",
       "    </tr>\n",
       "    <tr>\n",
       "      <th>3</th>\n",
       "      <td>1750</td>\n",
       "      <td>Audi</td>\n",
       "      <td>4000 S</td>\n",
       "      <td>1986</td>\n",
       "      <td>Subcompact Cars</td>\n",
       "      <td>Manual 5-spd</td>\n",
       "      <td>Front-Wheel Drive</td>\n",
       "      <td>4.0</td>\n",
       "      <td>1.8</td>\n",
       "      <td>Regular</td>\n",
       "      <td>28</td>\n",
       "      <td>22</td>\n",
       "    </tr>\n",
       "    <tr>\n",
       "      <th>4</th>\n",
       "      <td>53</td>\n",
       "      <td>Audi</td>\n",
       "      <td>4000s</td>\n",
       "      <td>1985</td>\n",
       "      <td>Subcompact Cars</td>\n",
       "      <td>Automatic 3-spd</td>\n",
       "      <td>Front-Wheel Drive</td>\n",
       "      <td>4.0</td>\n",
       "      <td>1.8</td>\n",
       "      <td>Regular</td>\n",
       "      <td>24</td>\n",
       "      <td>21</td>\n",
       "    </tr>\n",
       "    <tr>\n",
       "      <th>...</th>\n",
       "      <td>...</td>\n",
       "      <td>...</td>\n",
       "      <td>...</td>\n",
       "      <td>...</td>\n",
       "      <td>...</td>\n",
       "      <td>...</td>\n",
       "      <td>...</td>\n",
       "      <td>...</td>\n",
       "      <td>...</td>\n",
       "      <td>...</td>\n",
       "      <td>...</td>\n",
       "      <td>...</td>\n",
       "    </tr>\n",
       "    <tr>\n",
       "      <th>187</th>\n",
       "      <td>33613</td>\n",
       "      <td>Audi</td>\n",
       "      <td>TT Roadster quattro</td>\n",
       "      <td>2014</td>\n",
       "      <td>Two Seaters</td>\n",
       "      <td>Auto(AM-S6)</td>\n",
       "      <td>All-Wheel Drive</td>\n",
       "      <td>4.0</td>\n",
       "      <td>2.0</td>\n",
       "      <td>Premium</td>\n",
       "      <td>31</td>\n",
       "      <td>22</td>\n",
       "    </tr>\n",
       "    <tr>\n",
       "      <th>188</th>\n",
       "      <td>34663</td>\n",
       "      <td>Audi</td>\n",
       "      <td>TT Roadster quattro</td>\n",
       "      <td>2015</td>\n",
       "      <td>Two Seaters</td>\n",
       "      <td>Auto(AM-S6)</td>\n",
       "      <td>All-Wheel Drive</td>\n",
       "      <td>4.0</td>\n",
       "      <td>2.0</td>\n",
       "      <td>Premium</td>\n",
       "      <td>31</td>\n",
       "      <td>22</td>\n",
       "    </tr>\n",
       "    <tr>\n",
       "      <th>189</th>\n",
       "      <td>32410</td>\n",
       "      <td>Audi</td>\n",
       "      <td>allroad quattro</td>\n",
       "      <td>2013</td>\n",
       "      <td>Small Station Wagons</td>\n",
       "      <td>Automatic (S8)</td>\n",
       "      <td>All-Wheel Drive</td>\n",
       "      <td>4.0</td>\n",
       "      <td>2.0</td>\n",
       "      <td>Premium</td>\n",
       "      <td>27</td>\n",
       "      <td>20</td>\n",
       "    </tr>\n",
       "    <tr>\n",
       "      <th>190</th>\n",
       "      <td>33178</td>\n",
       "      <td>Audi</td>\n",
       "      <td>allroad quattro</td>\n",
       "      <td>2013</td>\n",
       "      <td>Small Station Wagons</td>\n",
       "      <td>Automatic (S8)</td>\n",
       "      <td>All-Wheel Drive</td>\n",
       "      <td>4.0</td>\n",
       "      <td>2.0</td>\n",
       "      <td>Premium or E85</td>\n",
       "      <td>27</td>\n",
       "      <td>20</td>\n",
       "    </tr>\n",
       "    <tr>\n",
       "      <th>191</th>\n",
       "      <td>33855</td>\n",
       "      <td>Audi</td>\n",
       "      <td>allroad quattro</td>\n",
       "      <td>2014</td>\n",
       "      <td>Small Station Wagons</td>\n",
       "      <td>Automatic (S8)</td>\n",
       "      <td>All-Wheel Drive</td>\n",
       "      <td>4.0</td>\n",
       "      <td>2.0</td>\n",
       "      <td>Premium or E85</td>\n",
       "      <td>27</td>\n",
       "      <td>20</td>\n",
       "    </tr>\n",
       "  </tbody>\n",
       "</table>\n",
       "<p>192 rows × 12 columns</p>\n",
       "</div>"
      ],
      "text/plain": [
       "        id  make                model  year                 class  \\\n",
       "0     2963  Audi                 4000  1987       Subcompact Cars   \n",
       "1     2964  Audi                 4000  1987       Subcompact Cars   \n",
       "2     1749  Audi               4000 S  1986       Subcompact Cars   \n",
       "3     1750  Audi               4000 S  1986       Subcompact Cars   \n",
       "4       53  Audi                4000s  1985       Subcompact Cars   \n",
       "..     ...   ...                  ...   ...                   ...   \n",
       "187  33613  Audi  TT Roadster quattro  2014           Two Seaters   \n",
       "188  34663  Audi  TT Roadster quattro  2015           Two Seaters   \n",
       "189  32410  Audi      allroad quattro  2013  Small Station Wagons   \n",
       "190  33178  Audi      allroad quattro  2013  Small Station Wagons   \n",
       "191  33855  Audi      allroad quattro  2014  Small Station Wagons   \n",
       "\n",
       "               trans              drive  cyl  displ            fuel  hwy  cty  \n",
       "0    Automatic 3-spd  Front-Wheel Drive  4.0    1.8         Regular   24   21  \n",
       "1       Manual 5-spd  Front-Wheel Drive  4.0    1.8         Regular   28   22  \n",
       "2    Automatic 3-spd  Front-Wheel Drive  4.0    1.8         Regular   24   21  \n",
       "3       Manual 5-spd  Front-Wheel Drive  4.0    1.8         Regular   28   22  \n",
       "4    Automatic 3-spd  Front-Wheel Drive  4.0    1.8         Regular   24   21  \n",
       "..               ...                ...  ...    ...             ...  ...  ...  \n",
       "187      Auto(AM-S6)    All-Wheel Drive  4.0    2.0         Premium   31   22  \n",
       "188      Auto(AM-S6)    All-Wheel Drive  4.0    2.0         Premium   31   22  \n",
       "189   Automatic (S8)    All-Wheel Drive  4.0    2.0         Premium   27   20  \n",
       "190   Automatic (S8)    All-Wheel Drive  4.0    2.0  Premium or E85   27   20  \n",
       "191   Automatic (S8)    All-Wheel Drive  4.0    2.0  Premium or E85   27   20  \n",
       "\n",
       "[192 rows x 12 columns]"
      ]
     },
     "execution_count": 66,
     "metadata": {},
     "output_type": "execute_result"
    }
   ],
   "source": [
    "#vehicles.head(5)\n",
    "vehicles[(vehicles['make']=='Audi') & (vehicles['cty'] > 18)]\n",
    "\n",
    "\n",
    "query_1=\"\"\"\n",
    "SELECT *\n",
    "FROM vehicles\n",
    "WHERE make = 'Audi' AND cty > 18\n",
    "\"\"\"\n",
    "\n",
    "audi_cty_g18 = pd.read_sql_query(query_1, con=conn_str)\n",
    "audi_cty_g18\n"
   ]
  },
  {
   "cell_type": "code",
   "execution_count": 67,
   "metadata": {},
   "outputs": [
    {
     "data": {
      "text/html": [
       "<div>\n",
       "<style scoped>\n",
       "    .dataframe tbody tr th:only-of-type {\n",
       "        vertical-align: middle;\n",
       "    }\n",
       "\n",
       "    .dataframe tbody tr th {\n",
       "        vertical-align: top;\n",
       "    }\n",
       "\n",
       "    .dataframe thead th {\n",
       "        text-align: right;\n",
       "    }\n",
       "</style>\n",
       "<table border=\"1\" class=\"dataframe\">\n",
       "  <thead>\n",
       "    <tr style=\"text-align: right;\">\n",
       "      <th></th>\n",
       "      <th>id</th>\n",
       "      <th>make</th>\n",
       "      <th>model</th>\n",
       "      <th>year</th>\n",
       "      <th>class</th>\n",
       "      <th>trans</th>\n",
       "      <th>drive</th>\n",
       "      <th>cyl</th>\n",
       "      <th>displ</th>\n",
       "      <th>fuel</th>\n",
       "      <th>hwy</th>\n",
       "      <th>cty</th>\n",
       "    </tr>\n",
       "  </thead>\n",
       "  <tbody>\n",
       "    <tr>\n",
       "      <th>7</th>\n",
       "      <td>13309</td>\n",
       "      <td>Audi</td>\n",
       "      <td>2.2CL/3.0CL</td>\n",
       "      <td>1997</td>\n",
       "      <td>Subcompact Cars</td>\n",
       "      <td>Automatic 4-spd</td>\n",
       "      <td>Front-Wheel Drive</td>\n",
       "      <td>4.0</td>\n",
       "      <td>2.2</td>\n",
       "      <td>Regular</td>\n",
       "      <td>26</td>\n",
       "      <td>20</td>\n",
       "    </tr>\n",
       "    <tr>\n",
       "      <th>8</th>\n",
       "      <td>13310</td>\n",
       "      <td>Audi</td>\n",
       "      <td>2.2CL/3.0CL</td>\n",
       "      <td>1997</td>\n",
       "      <td>Subcompact Cars</td>\n",
       "      <td>Manual 5-spd</td>\n",
       "      <td>Front-Wheel Drive</td>\n",
       "      <td>4.0</td>\n",
       "      <td>2.2</td>\n",
       "      <td>Regular</td>\n",
       "      <td>28</td>\n",
       "      <td>22</td>\n",
       "    </tr>\n",
       "    <tr>\n",
       "      <th>10</th>\n",
       "      <td>14038</td>\n",
       "      <td>Audi</td>\n",
       "      <td>2.3CL/3.0CL</td>\n",
       "      <td>1998</td>\n",
       "      <td>Subcompact Cars</td>\n",
       "      <td>Automatic 4-spd</td>\n",
       "      <td>Front-Wheel Drive</td>\n",
       "      <td>4.0</td>\n",
       "      <td>2.3</td>\n",
       "      <td>Regular</td>\n",
       "      <td>27</td>\n",
       "      <td>19</td>\n",
       "    </tr>\n",
       "    <tr>\n",
       "      <th>11</th>\n",
       "      <td>14039</td>\n",
       "      <td>Audi</td>\n",
       "      <td>2.3CL/3.0CL</td>\n",
       "      <td>1998</td>\n",
       "      <td>Subcompact Cars</td>\n",
       "      <td>Manual 5-spd</td>\n",
       "      <td>Front-Wheel Drive</td>\n",
       "      <td>4.0</td>\n",
       "      <td>2.3</td>\n",
       "      <td>Regular</td>\n",
       "      <td>29</td>\n",
       "      <td>21</td>\n",
       "    </tr>\n",
       "    <tr>\n",
       "      <th>13</th>\n",
       "      <td>14834</td>\n",
       "      <td>Audi</td>\n",
       "      <td>2.3CL/3.0CL</td>\n",
       "      <td>1999</td>\n",
       "      <td>Subcompact Cars</td>\n",
       "      <td>Automatic 4-spd</td>\n",
       "      <td>Front-Wheel Drive</td>\n",
       "      <td>4.0</td>\n",
       "      <td>2.3</td>\n",
       "      <td>Regular</td>\n",
       "      <td>27</td>\n",
       "      <td>20</td>\n",
       "    </tr>\n",
       "    <tr>\n",
       "      <th>...</th>\n",
       "      <td>...</td>\n",
       "      <td>...</td>\n",
       "      <td>...</td>\n",
       "      <td>...</td>\n",
       "      <td>...</td>\n",
       "      <td>...</td>\n",
       "      <td>...</td>\n",
       "      <td>...</td>\n",
       "      <td>...</td>\n",
       "      <td>...</td>\n",
       "      <td>...</td>\n",
       "      <td>...</td>\n",
       "    </tr>\n",
       "    <tr>\n",
       "      <th>33437</th>\n",
       "      <td>33305</td>\n",
       "      <td>Audi</td>\n",
       "      <td>fortwo electric drive convertible</td>\n",
       "      <td>2013</td>\n",
       "      <td>Two Seaters</td>\n",
       "      <td>Automatic (A1)</td>\n",
       "      <td>Rear-Wheel Drive</td>\n",
       "      <td>NaN</td>\n",
       "      <td>NaN</td>\n",
       "      <td>Electricity</td>\n",
       "      <td>93</td>\n",
       "      <td>122</td>\n",
       "    </tr>\n",
       "    <tr>\n",
       "      <th>33438</th>\n",
       "      <td>34393</td>\n",
       "      <td>Audi</td>\n",
       "      <td>fortwo electric drive convertible</td>\n",
       "      <td>2014</td>\n",
       "      <td>Two Seaters</td>\n",
       "      <td>Automatic (A1)</td>\n",
       "      <td>Rear-Wheel Drive</td>\n",
       "      <td>NaN</td>\n",
       "      <td>NaN</td>\n",
       "      <td>Electricity</td>\n",
       "      <td>93</td>\n",
       "      <td>122</td>\n",
       "    </tr>\n",
       "    <tr>\n",
       "      <th>33439</th>\n",
       "      <td>31065</td>\n",
       "      <td>Audi</td>\n",
       "      <td>fortwo electric drive coupe</td>\n",
       "      <td>2011</td>\n",
       "      <td>Two Seaters</td>\n",
       "      <td>Automatic (A1)</td>\n",
       "      <td>Rear-Wheel Drive</td>\n",
       "      <td>NaN</td>\n",
       "      <td>NaN</td>\n",
       "      <td>Electricity</td>\n",
       "      <td>79</td>\n",
       "      <td>94</td>\n",
       "    </tr>\n",
       "    <tr>\n",
       "      <th>33440</th>\n",
       "      <td>33306</td>\n",
       "      <td>Audi</td>\n",
       "      <td>fortwo electric drive coupe</td>\n",
       "      <td>2013</td>\n",
       "      <td>Two Seaters</td>\n",
       "      <td>Automatic (A1)</td>\n",
       "      <td>Rear-Wheel Drive</td>\n",
       "      <td>NaN</td>\n",
       "      <td>NaN</td>\n",
       "      <td>Electricity</td>\n",
       "      <td>93</td>\n",
       "      <td>122</td>\n",
       "    </tr>\n",
       "    <tr>\n",
       "      <th>33441</th>\n",
       "      <td>34394</td>\n",
       "      <td>Audi</td>\n",
       "      <td>fortwo electric drive coupe</td>\n",
       "      <td>2014</td>\n",
       "      <td>Two Seaters</td>\n",
       "      <td>Automatic (A1)</td>\n",
       "      <td>Rear-Wheel Drive</td>\n",
       "      <td>NaN</td>\n",
       "      <td>NaN</td>\n",
       "      <td>Electricity</td>\n",
       "      <td>93</td>\n",
       "      <td>122</td>\n",
       "    </tr>\n",
       "  </tbody>\n",
       "</table>\n",
       "<p>10860 rows × 12 columns</p>\n",
       "</div>"
      ],
      "text/plain": [
       "          id  make                              model  year            class  \\\n",
       "7      13309  Audi                        2.2CL/3.0CL  1997  Subcompact Cars   \n",
       "8      13310  Audi                        2.2CL/3.0CL  1997  Subcompact Cars   \n",
       "10     14038  Audi                        2.3CL/3.0CL  1998  Subcompact Cars   \n",
       "11     14039  Audi                        2.3CL/3.0CL  1998  Subcompact Cars   \n",
       "13     14834  Audi                        2.3CL/3.0CL  1999  Subcompact Cars   \n",
       "...      ...   ...                                ...   ...              ...   \n",
       "33437  33305  Audi  fortwo electric drive convertible  2013      Two Seaters   \n",
       "33438  34393  Audi  fortwo electric drive convertible  2014      Two Seaters   \n",
       "33439  31065  Audi        fortwo electric drive coupe  2011      Two Seaters   \n",
       "33440  33306  Audi        fortwo electric drive coupe  2013      Two Seaters   \n",
       "33441  34394  Audi        fortwo electric drive coupe  2014      Two Seaters   \n",
       "\n",
       "                 trans              drive  cyl  displ         fuel  hwy  cty  \n",
       "7      Automatic 4-spd  Front-Wheel Drive  4.0    2.2      Regular   26   20  \n",
       "8         Manual 5-spd  Front-Wheel Drive  4.0    2.2      Regular   28   22  \n",
       "10     Automatic 4-spd  Front-Wheel Drive  4.0    2.3      Regular   27   19  \n",
       "11        Manual 5-spd  Front-Wheel Drive  4.0    2.3      Regular   29   21  \n",
       "13     Automatic 4-spd  Front-Wheel Drive  4.0    2.3      Regular   27   20  \n",
       "...                ...                ...  ...    ...          ...  ...  ...  \n",
       "33437   Automatic (A1)   Rear-Wheel Drive  NaN    NaN  Electricity   93  122  \n",
       "33438   Automatic (A1)   Rear-Wheel Drive  NaN    NaN  Electricity   93  122  \n",
       "33439   Automatic (A1)   Rear-Wheel Drive  NaN    NaN  Electricity   79   94  \n",
       "33440   Automatic (A1)   Rear-Wheel Drive  NaN    NaN  Electricity   93  122  \n",
       "33441   Automatic (A1)   Rear-Wheel Drive  NaN    NaN  Electricity   93  122  \n",
       "\n",
       "[10860 rows x 12 columns]"
      ]
     },
     "execution_count": 67,
     "metadata": {},
     "output_type": "execute_result"
    }
   ],
   "source": [
    "vehicles[(vehicles['make']=='Audi') & (vehicles['cty'] > 18)]"
   ]
  },
  {
   "cell_type": "markdown",
   "metadata": {
    "id": "i2i3ifCFZ1Nw"
   },
   "source": [
    "### Delete all records from the temp table you just created."
   ]
  },
  {
   "cell_type": "code",
   "execution_count": null,
   "metadata": {
    "id": "HPu_BDc0Z1Nw",
    "scrolled": true
   },
   "outputs": [],
   "source": []
  },
  {
   "cell_type": "markdown",
   "metadata": {
    "id": "aVCaVGsgZ1Nz"
   },
   "source": [
    "### Insert records from the vehicles table back into the table you created where the make is Audi and the city fuel efficiency is greater than 20."
   ]
  },
  {
   "cell_type": "code",
   "execution_count": null,
   "metadata": {
    "id": "_UHDkDEAZ1N0"
   },
   "outputs": [],
   "source": []
  },
  {
   "cell_type": "markdown",
   "metadata": {
    "id": "Dp_A2JpjZ1N2"
   },
   "source": [
    "### Update the drive field of the records in the table you created to change any \"4-Wheel or All-Wheel Drive\" values to \"All-Wheel Drive.\""
   ]
  },
  {
   "cell_type": "code",
   "execution_count": null,
   "metadata": {
    "id": "1dH09T_vZ1N3"
   },
   "outputs": [],
   "source": []
  },
  {
   "cell_type": "markdown",
   "metadata": {
    "id": "xwhxonZGZ1N5"
   },
   "source": [
    "### Write a for loop that iterates over the list of makes provided below, selects the top 10 vehicles with the highest city fuel efficiency for each make, and then concatenates all the results together into a single Pandas data frame."
   ]
  },
  {
   "cell_type": "code",
   "execution_count": null,
   "metadata": {
    "id": "LFwsUF9kZ1N6"
   },
   "outputs": [],
   "source": [
    "makes = ['Ford', 'Chevrolet', 'Toyota', 'Honda']"
   ]
  },
  {
   "cell_type": "code",
   "execution_count": null,
   "metadata": {
    "id": "YBEn8rcgZ1N9"
   },
   "outputs": [],
   "source": []
  }
 ],
 "metadata": {
  "colab": {
   "collapsed_sections": [],
   "name": "Copy of Day 10 Lecture 1 Assignment.ipynb",
   "provenance": [
    {
     "file_id": "1pd5Bu6lOWvST5geAtawcfOvyzv2TRv4d",
     "timestamp": 1604679390843
    }
   ]
  },
  "kernelspec": {
   "display_name": "Python 3",
   "language": "python",
   "name": "python3"
  },
  "language_info": {
   "codemirror_mode": {
    "name": "ipython",
    "version": 3
   },
   "file_extension": ".py",
   "mimetype": "text/x-python",
   "name": "python",
   "nbconvert_exporter": "python",
   "pygments_lexer": "ipython3",
   "version": "3.7.7"
  }
 },
 "nbformat": 4,
 "nbformat_minor": 1
}
