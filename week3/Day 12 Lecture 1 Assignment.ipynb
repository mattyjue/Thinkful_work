{
 "cells": [
  {
   "cell_type": "markdown",
   "metadata": {
    "id": "xbQmIT32i852"
   },
   "source": [
    "# A/B Testing Assignment"
   ]
  },
  {
   "cell_type": "code",
   "execution_count": 1,
   "metadata": {
    "id": "G4kIlwTSi853"
   },
   "outputs": [
    {
     "data": {
      "application/javascript": [
       "\n",
       "            setTimeout(function() {\n",
       "                var nbb_cell_id = 1;\n",
       "                var nbb_unformatted_code = \"%reload_ext nb_black\\nimport numpy as np\\nimport pandas as pd\\nfrom scipy import stats\\nimport seaborn as sns\\nimport matplotlib.pyplot as plt\";\n",
       "                var nbb_formatted_code = \"%reload_ext nb_black\\nimport numpy as np\\nimport pandas as pd\\nfrom scipy import stats\\nimport seaborn as sns\\nimport matplotlib.pyplot as plt\";\n",
       "                var nbb_cells = Jupyter.notebook.get_cells();\n",
       "                for (var i = 0; i < nbb_cells.length; ++i) {\n",
       "                    if (nbb_cells[i].input_prompt_number == nbb_cell_id) {\n",
       "                        if (nbb_cells[i].get_text() == nbb_unformatted_code) {\n",
       "                             nbb_cells[i].set_text(nbb_formatted_code);\n",
       "                        }\n",
       "                        break;\n",
       "                    }\n",
       "                }\n",
       "            }, 500);\n",
       "            "
      ],
      "text/plain": [
       "<IPython.core.display.Javascript object>"
      ]
     },
     "metadata": {},
     "output_type": "display_data"
    }
   ],
   "source": [
    "%reload_ext nb_black\n",
    "import numpy as np\n",
    "import pandas as pd\n",
    "from scipy import stats\n",
    "import seaborn as sns\n",
    "import matplotlib.pyplot as plt"
   ]
  },
  {
   "cell_type": "markdown",
   "metadata": {
    "id": "z7BJAQoti86B"
   },
   "source": [
    "### Import the [Absenteeism at Work data set](https://tf-assets-prod.s3.amazonaws.com/tf-curric/data-science/Absenteeism_at_work.csv). \n",
    "\n",
    "**Note:** The the delimiter of the file is a semi-colon (;), so you will need to set `sep=';'`."
   ]
  },
  {
   "cell_type": "code",
   "execution_count": 2,
   "metadata": {
    "id": "uYcAlPGIi86C"
   },
   "outputs": [
    {
     "data": {
      "application/javascript": [
       "\n",
       "            setTimeout(function() {\n",
       "                var nbb_cell_id = 2;\n",
       "                var nbb_unformatted_code = \"data = \\\"Absenteeism_at_work.csv\\\"\\ndf = pd.read_csv(data, sep=\\\";\\\")\";\n",
       "                var nbb_formatted_code = \"data = \\\"Absenteeism_at_work.csv\\\"\\ndf = pd.read_csv(data, sep=\\\";\\\")\";\n",
       "                var nbb_cells = Jupyter.notebook.get_cells();\n",
       "                for (var i = 0; i < nbb_cells.length; ++i) {\n",
       "                    if (nbb_cells[i].input_prompt_number == nbb_cell_id) {\n",
       "                        if (nbb_cells[i].get_text() == nbb_unformatted_code) {\n",
       "                             nbb_cells[i].set_text(nbb_formatted_code);\n",
       "                        }\n",
       "                        break;\n",
       "                    }\n",
       "                }\n",
       "            }, 500);\n",
       "            "
      ],
      "text/plain": [
       "<IPython.core.display.Javascript object>"
      ]
     },
     "metadata": {},
     "output_type": "display_data"
    }
   ],
   "source": [
    "data = \"Absenteeism_at_work.csv\"\n",
    "df = pd.read_csv(data, sep=\";\")"
   ]
  },
  {
   "cell_type": "code",
   "execution_count": null,
   "metadata": {},
   "outputs": [],
   "source": []
  },
  {
   "cell_type": "markdown",
   "metadata": {
    "id": "r9Rvh7dpi86F"
   },
   "source": [
    "## Confidence Intervals\n",
    "\n",
    "Suppose this company is analyzing the health of its employees and is specifically interested in their Body Mass Index (BMI). Generate a 95% confidence interval of the mean for that field."
   ]
  },
  {
   "cell_type": "code",
   "execution_count": 5,
   "metadata": {},
   "outputs": [
    {
     "data": {
      "text/plain": [
       "(26.36825576762484, 26.985798286429212)"
      ]
     },
     "execution_count": 5,
     "metadata": {},
     "output_type": "execute_result"
    },
    {
     "data": {
      "application/javascript": [
       "\n",
       "            setTimeout(function() {\n",
       "                var nbb_cell_id = 5;\n",
       "                var nbb_unformatted_code = \"_mean = df[\\\"Body mass index\\\"].mean()\\n_std = df[\\\"Body mass index\\\"].std()\\n_n = df[\\\"Body mass index\\\"].count()\\n\\nstde = _std / np.sqrt(_n)\\n\\nci_lo = _mean - (1.96) * stde\\nci_hi = _mean + (1.96) * stde\\n\\n(ci_lo, ci_hi)\";\n",
       "                var nbb_formatted_code = \"_mean = df[\\\"Body mass index\\\"].mean()\\n_std = df[\\\"Body mass index\\\"].std()\\n_n = df[\\\"Body mass index\\\"].count()\\n\\nstde = _std / np.sqrt(_n)\\n\\nci_lo = _mean - (1.96) * stde\\nci_hi = _mean + (1.96) * stde\\n\\n(ci_lo, ci_hi)\";\n",
       "                var nbb_cells = Jupyter.notebook.get_cells();\n",
       "                for (var i = 0; i < nbb_cells.length; ++i) {\n",
       "                    if (nbb_cells[i].input_prompt_number == nbb_cell_id) {\n",
       "                        if (nbb_cells[i].get_text() == nbb_unformatted_code) {\n",
       "                             nbb_cells[i].set_text(nbb_formatted_code);\n",
       "                        }\n",
       "                        break;\n",
       "                    }\n",
       "                }\n",
       "            }, 500);\n",
       "            "
      ],
      "text/plain": [
       "<IPython.core.display.Javascript object>"
      ]
     },
     "metadata": {},
     "output_type": "display_data"
    }
   ],
   "source": [
    "#Dont think this one is right\n",
    "_mean = df[\"Body mass index\"].mean()\n",
    "_std = df[\"Body mass index\"].std()\n",
    "_n = df[\"Body mass index\"].count()\n",
    "\n",
    "stde = _std / np.sqrt(_n)\n",
    "\n",
    "ci_lo = _mean - (1.96) * stde\n",
    "ci_hi = _mean + (1.96) * stde\n",
    "\n",
    "(ci_lo, ci_hi)\n"
   ]
  },
  {
   "cell_type": "code",
   "execution_count": 4,
   "metadata": {},
   "outputs": [
    {
     "data": {
      "text/plain": [
       "(19.0, 37.049999999999955)"
      ]
     },
     "execution_count": 4,
     "metadata": {},
     "output_type": "execute_result"
    },
    {
     "data": {
      "application/javascript": [
       "\n",
       "            setTimeout(function() {\n",
       "                var nbb_cell_id = 4;\n",
       "                var nbb_unformatted_code = \"bmi_mean = df[\\\"Body mass index\\\"].mean()\\nci_low = np.percentile(df[\\\"Body mass index\\\"], 2.5)\\nci_high = np.percentile(df[\\\"Body mass index\\\"], 97.5)\\n(ci_low, ci_high)\";\n",
       "                var nbb_formatted_code = \"bmi_mean = df[\\\"Body mass index\\\"].mean()\\nci_low = np.percentile(df[\\\"Body mass index\\\"], 2.5)\\nci_high = np.percentile(df[\\\"Body mass index\\\"], 97.5)\\n(ci_low, ci_high)\";\n",
       "                var nbb_cells = Jupyter.notebook.get_cells();\n",
       "                for (var i = 0; i < nbb_cells.length; ++i) {\n",
       "                    if (nbb_cells[i].input_prompt_number == nbb_cell_id) {\n",
       "                        if (nbb_cells[i].get_text() == nbb_unformatted_code) {\n",
       "                             nbb_cells[i].set_text(nbb_formatted_code);\n",
       "                        }\n",
       "                        break;\n",
       "                    }\n",
       "                }\n",
       "            }, 500);\n",
       "            "
      ],
      "text/plain": [
       "<IPython.core.display.Javascript object>"
      ]
     },
     "metadata": {},
     "output_type": "display_data"
    }
   ],
   "source": [
    "#This is the correct CI\n",
    "bmi_mean = df[\"Body mass index\"].mean()\n",
    "ci_low = np.percentile(df[\"Body mass index\"], 2.5)\n",
    "ci_high = np.percentile(df[\"Body mass index\"], 97.5)\n",
    "(ci_low, ci_high)"
   ]
  },
  {
   "cell_type": "markdown",
   "metadata": {
    "id": "wOnN7cu6i86J"
   },
   "source": [
    "### Visualizing Confidence Intervals\n",
    "\n",
    "Generate a sampling distribution of the mean for the Body Mass Index field. Create a histogram to visualize the sampling distribution and add an indicator showing the lower and upper bounds of the confidence interval."
   ]
  },
  {
   "cell_type": "code",
   "execution_count": 7,
   "metadata": {
    "id": "1DpSZ6h0i86J"
   },
   "outputs": [
    {
     "data": {
      "application/javascript": [
       "\n",
       "            setTimeout(function() {\n",
       "                var nbb_cell_id = 7;\n",
       "                var nbb_unformatted_code = \"mean_diffs = []\\n\\nfor i in range(1000):\\n    sample = df[\\\"Body mass index\\\"].sample(frac=1.0, replace=True)\\n    mean_diffs.append(sample.mean())\\n\\n\\nci_lo = np.percentile(mean_diffs, 2.5)\\nci_hi = np.percentile(mean_diffs, 97.5)\";\n",
       "                var nbb_formatted_code = \"mean_diffs = []\\n\\nfor i in range(1000):\\n    sample = df[\\\"Body mass index\\\"].sample(frac=1.0, replace=True)\\n    mean_diffs.append(sample.mean())\\n\\n\\nci_lo = np.percentile(mean_diffs, 2.5)\\nci_hi = np.percentile(mean_diffs, 97.5)\";\n",
       "                var nbb_cells = Jupyter.notebook.get_cells();\n",
       "                for (var i = 0; i < nbb_cells.length; ++i) {\n",
       "                    if (nbb_cells[i].input_prompt_number == nbb_cell_id) {\n",
       "                        if (nbb_cells[i].get_text() == nbb_unformatted_code) {\n",
       "                             nbb_cells[i].set_text(nbb_formatted_code);\n",
       "                        }\n",
       "                        break;\n",
       "                    }\n",
       "                }\n",
       "            }, 500);\n",
       "            "
      ],
      "text/plain": [
       "<IPython.core.display.Javascript object>"
      ]
     },
     "metadata": {},
     "output_type": "display_data"
    }
   ],
   "source": [
    "mean_diffs = []\n",
    "\n",
    "for i in range(1000):\n",
    "    sample = df[\"Body mass index\"].sample(frac=1.0, replace=True)\n",
    "    mean_diffs.append(sample.mean())\n",
    "\n",
    "\n",
    "ci_lo = np.percentile(mean_diffs, 2.5)\n",
    "ci_hi = np.percentile(mean_diffs, 97.5)"
   ]
  },
  {
   "cell_type": "code",
   "execution_count": 8,
   "metadata": {},
   "outputs": [
    {
     "data": {
      "text/plain": [
       "(26.38918918918919, 26.97706081081081)"
      ]
     },
     "execution_count": 8,
     "metadata": {},
     "output_type": "execute_result"
    },
    {
     "data": {
      "application/javascript": [
       "\n",
       "            setTimeout(function() {\n",
       "                var nbb_cell_id = 8;\n",
       "                var nbb_unformatted_code = \"(ci_lo, ci_hi)\";\n",
       "                var nbb_formatted_code = \"(ci_lo, ci_hi)\";\n",
       "                var nbb_cells = Jupyter.notebook.get_cells();\n",
       "                for (var i = 0; i < nbb_cells.length; ++i) {\n",
       "                    if (nbb_cells[i].input_prompt_number == nbb_cell_id) {\n",
       "                        if (nbb_cells[i].get_text() == nbb_unformatted_code) {\n",
       "                             nbb_cells[i].set_text(nbb_formatted_code);\n",
       "                        }\n",
       "                        break;\n",
       "                    }\n",
       "                }\n",
       "            }, 500);\n",
       "            "
      ],
      "text/plain": [
       "<IPython.core.display.Javascript object>"
      ]
     },
     "metadata": {},
     "output_type": "display_data"
    }
   ],
   "source": [
    "(ci_lo, ci_hi)"
   ]
  },
  {
   "cell_type": "code",
   "execution_count": 9,
   "metadata": {},
   "outputs": [
    {
     "data": {
      "text/plain": [
       "<matplotlib.lines.Line2D at 0x250a778da08>"
      ]
     },
     "execution_count": 9,
     "metadata": {},
     "output_type": "execute_result"
    },
    {
     "data": {
      "image/png": "[encoded data removed]",
      "text/plain": [
       "<Figure size 432x288 with 1 Axes>"
      ]
     },
     "metadata": {
      "needs_background": "light"
     },
     "output_type": "display_data"
    },
    {
     "data": {
      "application/javascript": [
       "\n",
       "            setTimeout(function() {\n",
       "                var nbb_cell_id = 9;\n",
       "                var nbb_unformatted_code = \"plt.hist(mean_diffs)\\nplt.axvline(ci_lo, c=\\\"orange\\\")\\nplt.axvline(ci_hi, c=\\\"orange\\\")\";\n",
       "                var nbb_formatted_code = \"plt.hist(mean_diffs)\\nplt.axvline(ci_lo, c=\\\"orange\\\")\\nplt.axvline(ci_hi, c=\\\"orange\\\")\";\n",
       "                var nbb_cells = Jupyter.notebook.get_cells();\n",
       "                for (var i = 0; i < nbb_cells.length; ++i) {\n",
       "                    if (nbb_cells[i].input_prompt_number == nbb_cell_id) {\n",
       "                        if (nbb_cells[i].get_text() == nbb_unformatted_code) {\n",
       "                             nbb_cells[i].set_text(nbb_formatted_code);\n",
       "                        }\n",
       "                        break;\n",
       "                    }\n",
       "                }\n",
       "            }, 500);\n",
       "            "
      ],
      "text/plain": [
       "<IPython.core.display.Javascript object>"
      ]
     },
     "metadata": {},
     "output_type": "display_data"
    }
   ],
   "source": [
    "plt.hist(mean_diffs)\n",
    "plt.axvline(ci_lo, c=\"orange\")\n",
    "plt.axvline(ci_hi, c=\"orange\")"
   ]
  },
  {
   "cell_type": "markdown",
   "metadata": {
    "id": "5ACmvwkoi86N"
   },
   "source": [
    "### Confidence Intervals by Group\n",
    "\n",
    "Suppose we wanted to examine whether there was a difference in the BMIs of employees who drink socially and those that do not. Use the Social Drinker field to split the employees into groups, and then compute the confidence intervals for each group. What insights can you derive from the results?"
   ]
  },
  {
   "cell_type": "code",
   "execution_count": 10,
   "metadata": {
    "id": "qKzAdaqJi86O"
   },
   "outputs": [
    {
     "data": {
      "text/plain": [
       "(2.2105132913782177, 3.390677184812264)"
      ]
     },
     "execution_count": 10,
     "metadata": {},
     "output_type": "execute_result"
    },
    {
     "data": {
      "application/javascript": [
       "\n",
       "            setTimeout(function() {\n",
       "                var nbb_cell_id = 10;\n",
       "                var nbb_unformatted_code = \"drinks = df[df[\\\"Social drinker\\\"] == 1]\\ndoesnt = df[df[\\\"Social drinker\\\"] == 0]\\n\\nget_95_ci(drinks[\\\"Body mass index\\\"], doesnt[\\\"Body mass index\\\"])\";\n",
       "                var nbb_formatted_code = \"drinks = df[df[\\\"Social drinker\\\"] == 1]\\ndoesnt = df[df[\\\"Social drinker\\\"] == 0]\\n\\nget_95_ci(drinks[\\\"Body mass index\\\"], doesnt[\\\"Body mass index\\\"])\";\n",
       "                var nbb_cells = Jupyter.notebook.get_cells();\n",
       "                for (var i = 0; i < nbb_cells.length; ++i) {\n",
       "                    if (nbb_cells[i].input_prompt_number == nbb_cell_id) {\n",
       "                        if (nbb_cells[i].get_text() == nbb_unformatted_code) {\n",
       "                             nbb_cells[i].set_text(nbb_formatted_code);\n",
       "                        }\n",
       "                        break;\n",
       "                    }\n",
       "                }\n",
       "            }, 500);\n",
       "            "
      ],
      "text/plain": [
       "<IPython.core.display.Javascript object>"
      ]
     },
     "metadata": {},
     "output_type": "display_data"
    }
   ],
   "source": [
    "drinks = df[df[\"Social drinker\"] == 1]\n",
    "doesnt = df[df[\"Social drinker\"] == 0]\n",
    "\n",
    "get_95_ci(drinks[\"Body mass index\"], doesnt[\"Body mass index\"])"
   ]
  },
  {
   "cell_type": "code",
   "execution_count": 11,
   "metadata": {},
   "outputs": [
    {
     "data": {
      "text/plain": [
       "420"
      ]
     },
     "execution_count": 11,
     "metadata": {},
     "output_type": "execute_result"
    },
    {
     "data": {
      "application/javascript": [
       "\n",
       "            setTimeout(function() {\n",
       "                var nbb_cell_id = 11;\n",
       "                var nbb_unformatted_code = \"drinks[\\\"Body mass index\\\"].count()\";\n",
       "                var nbb_formatted_code = \"drinks[\\\"Body mass index\\\"].count()\";\n",
       "                var nbb_cells = Jupyter.notebook.get_cells();\n",
       "                for (var i = 0; i < nbb_cells.length; ++i) {\n",
       "                    if (nbb_cells[i].input_prompt_number == nbb_cell_id) {\n",
       "                        if (nbb_cells[i].get_text() == nbb_unformatted_code) {\n",
       "                             nbb_cells[i].set_text(nbb_formatted_code);\n",
       "                        }\n",
       "                        break;\n",
       "                    }\n",
       "                }\n",
       "            }, 500);\n",
       "            "
      ],
      "text/plain": [
       "<IPython.core.display.Javascript object>"
      ]
     },
     "metadata": {},
     "output_type": "display_data"
    }
   ],
   "source": [
    "drinks[\"Body mass index\"].count()"
   ]
  },
  {
   "cell_type": "code",
   "execution_count": 12,
   "metadata": {},
   "outputs": [
    {
     "data": {
      "text/plain": [
       "320"
      ]
     },
     "execution_count": 12,
     "metadata": {},
     "output_type": "execute_result"
    },
    {
     "data": {
      "application/javascript": [
       "\n",
       "            setTimeout(function() {\n",
       "                var nbb_cell_id = 12;\n",
       "                var nbb_unformatted_code = \"doesnt[\\\"Body mass index\\\"].count()\";\n",
       "                var nbb_formatted_code = \"doesnt[\\\"Body mass index\\\"].count()\";\n",
       "                var nbb_cells = Jupyter.notebook.get_cells();\n",
       "                for (var i = 0; i < nbb_cells.length; ++i) {\n",
       "                    if (nbb_cells[i].input_prompt_number == nbb_cell_id) {\n",
       "                        if (nbb_cells[i].get_text() == nbb_unformatted_code) {\n",
       "                             nbb_cells[i].set_text(nbb_formatted_code);\n",
       "                        }\n",
       "                        break;\n",
       "                    }\n",
       "                }\n",
       "            }, 500);\n",
       "            "
      ],
      "text/plain": [
       "<IPython.core.display.Javascript object>"
      ]
     },
     "metadata": {},
     "output_type": "display_data"
    }
   ],
   "source": [
    "doesnt[\"Body mass index\"].count()"
   ]
  },
  {
   "cell_type": "markdown",
   "metadata": {
    "id": "jTrcDrsmi86Q"
   },
   "source": [
    "### Sampling Distributions for Each Group\n",
    "\n",
    "Next, let's generate a sampling distribution of the mean for each group and generate a plot containing both of their histograms to see if there is any overlap."
   ]
  },
  {
   "cell_type": "code",
   "execution_count": 13,
   "metadata": {
    "id": "foR7kDCbi86R"
   },
   "outputs": [
    {
     "data": {
      "application/javascript": [
       "\n",
       "            setTimeout(function() {\n",
       "                var nbb_cell_id = 13;\n",
       "                var nbb_unformatted_code = \"mean_diffs = []\\n\\nfor i in range(1000):\\n    drinks_sample = drinks[\\\"Body mass index\\\"].sample(frac=1.0, replace=True)\\n    doesnt_sample = doesnt[\\\"Body mass index\\\"].sample(frac=1.0, replace=True)\\n    mean_diff = drinks_sample.mean() - doesnt_sample.mean()\\n    mean_diffs.append(mean_diff)\\n\\nci_lo = np.percentile(mean_diffs, 2.5)\\nci_hi = np.percentile(mean_diffs, 97.5)\";\n",
       "                var nbb_formatted_code = \"mean_diffs = []\\n\\nfor i in range(1000):\\n    drinks_sample = drinks[\\\"Body mass index\\\"].sample(frac=1.0, replace=True)\\n    doesnt_sample = doesnt[\\\"Body mass index\\\"].sample(frac=1.0, replace=True)\\n    mean_diff = drinks_sample.mean() - doesnt_sample.mean()\\n    mean_diffs.append(mean_diff)\\n\\nci_lo = np.percentile(mean_diffs, 2.5)\\nci_hi = np.percentile(mean_diffs, 97.5)\";\n",
       "                var nbb_cells = Jupyter.notebook.get_cells();\n",
       "                for (var i = 0; i < nbb_cells.length; ++i) {\n",
       "                    if (nbb_cells[i].input_prompt_number == nbb_cell_id) {\n",
       "                        if (nbb_cells[i].get_text() == nbb_unformatted_code) {\n",
       "                             nbb_cells[i].set_text(nbb_formatted_code);\n",
       "                        }\n",
       "                        break;\n",
       "                    }\n",
       "                }\n",
       "            }, 500);\n",
       "            "
      ],
      "text/plain": [
       "<IPython.core.display.Javascript object>"
      ]
     },
     "metadata": {},
     "output_type": "display_data"
    }
   ],
   "source": [
    "mean_diffs = []\n",
    "\n",
    "for i in range(1000):\n",
    "    drinks_sample = drinks[\"Body mass index\"].sample(frac=1.0, replace=True)\n",
    "    doesnt_sample = doesnt[\"Body mass index\"].sample(frac=1.0, replace=True)\n",
    "    mean_diff = drinks_sample.mean() - doesnt_sample.mean()\n",
    "    mean_diffs.append(mean_diff)\n",
    "\n",
    "ci_lo = np.percentile(mean_diffs, 2.5)\n",
    "ci_hi = np.percentile(mean_diffs, 97.5)"
   ]
  },
  {
   "cell_type": "code",
   "execution_count": 14,
   "metadata": {},
   "outputs": [
    {
     "data": {
      "text/plain": [
       "(2.2065587797619024, 3.4156473214285734)"
      ]
     },
     "execution_count": 14,
     "metadata": {},
     "output_type": "execute_result"
    },
    {
     "data": {
      "application/javascript": [
       "\n",
       "            setTimeout(function() {\n",
       "                var nbb_cell_id = 14;\n",
       "                var nbb_unformatted_code = \"(ci_lo, ci_hi)\";\n",
       "                var nbb_formatted_code = \"(ci_lo, ci_hi)\";\n",
       "                var nbb_cells = Jupyter.notebook.get_cells();\n",
       "                for (var i = 0; i < nbb_cells.length; ++i) {\n",
       "                    if (nbb_cells[i].input_prompt_number == nbb_cell_id) {\n",
       "                        if (nbb_cells[i].get_text() == nbb_unformatted_code) {\n",
       "                             nbb_cells[i].set_text(nbb_formatted_code);\n",
       "                        }\n",
       "                        break;\n",
       "                    }\n",
       "                }\n",
       "            }, 500);\n",
       "            "
      ],
      "text/plain": [
       "<IPython.core.display.Javascript object>"
      ]
     },
     "metadata": {},
     "output_type": "display_data"
    }
   ],
   "source": [
    "(ci_lo, ci_hi)"
   ]
  },
  {
   "cell_type": "markdown",
   "metadata": {
    "id": "fP720H-0i86V"
   },
   "source": [
    "## A/B Testing\n",
    "\n",
    "Based on our analysis so far, we would like to perform a t-test to determine whether there is a difference in BMI means between our two groups (social drinkers and non-social drinkers). Conduct an independent sample t-test and determine whether the differences between the groups is statistically significant. What is your conclusion?"
   ]
  },
  {
   "cell_type": "code",
   "execution_count": 15,
   "metadata": {
    "id": "qzHyOO4Wi86W"
   },
   "outputs": [
    {
     "data": {
      "text/plain": [
       "Ttest_indResult(statistic=6.059361351798191, pvalue=2.9779042111582565e-09)"
      ]
     },
     "execution_count": 15,
     "metadata": {},
     "output_type": "execute_result"
    },
    {
     "data": {
      "application/javascript": [
       "\n",
       "            setTimeout(function() {\n",
       "                var nbb_cell_id = 15;\n",
       "                var nbb_unformatted_code = \"drinks = df[(df[\\\"Social drinker\\\"] == 1) & (df[\\\"Social smoker\\\"] == 0)]\\nsmokes = df[(df[\\\"Social smoker\\\"] == 1) & (df[\\\"Social drinker\\\"] == 0)]\\n\\nstats.ttest_ind(drinks[\\\"Body mass index\\\"], smokes[\\\"Body mass index\\\"])\";\n",
       "                var nbb_formatted_code = \"drinks = df[(df[\\\"Social drinker\\\"] == 1) & (df[\\\"Social smoker\\\"] == 0)]\\nsmokes = df[(df[\\\"Social smoker\\\"] == 1) & (df[\\\"Social drinker\\\"] == 0)]\\n\\nstats.ttest_ind(drinks[\\\"Body mass index\\\"], smokes[\\\"Body mass index\\\"])\";\n",
       "                var nbb_cells = Jupyter.notebook.get_cells();\n",
       "                for (var i = 0; i < nbb_cells.length; ++i) {\n",
       "                    if (nbb_cells[i].input_prompt_number == nbb_cell_id) {\n",
       "                        if (nbb_cells[i].get_text() == nbb_unformatted_code) {\n",
       "                             nbb_cells[i].set_text(nbb_formatted_code);\n",
       "                        }\n",
       "                        break;\n",
       "                    }\n",
       "                }\n",
       "            }, 500);\n",
       "            "
      ],
      "text/plain": [
       "<IPython.core.display.Javascript object>"
      ]
     },
     "metadata": {},
     "output_type": "display_data"
    }
   ],
   "source": [
    "drinks = df[(df[\"Social drinker\"] == 1) & (df[\"Social smoker\"] == 0)]\n",
    "smokes = df[(df[\"Social smoker\"] == 1) & (df[\"Social drinker\"] == 0)]\n",
    "\n",
    "stats.ttest_ind(drinks[\"Body mass index\"], smokes[\"Body mass index\"])"
   ]
  },
  {
   "cell_type": "markdown",
   "metadata": {
    "id": "g1jcHXWBi86Z"
   },
   "source": [
    "## Confidence Intervals for Group Differences\n",
    "\n",
    "Generate a 95% confidence interval for the mean difference in BMI between the two groups. Compute the interval using both the traditional method and bootstrapping and compare the results. What conclusions can you draw from the comparison? How would you present a summary of your results to stakeholders?"
   ]
  },
  {
   "cell_type": "code",
   "execution_count": 16,
   "metadata": {
    "id": "-q2aDrObi86a"
   },
   "outputs": [
    {
     "data": {
      "application/javascript": [
       "\n",
       "            setTimeout(function() {\n",
       "                var nbb_cell_id = 16;\n",
       "                var nbb_unformatted_code = \"def get_95_ci(x1, x2):\\n    \\\"\\\"\\\"Calculate a 95% CI for 2 1d numpy arrays\\\"\\\"\\\"\\n    signal = x1.mean() - x2.mean()\\n    noise = np.sqrt(x1.var() / x1.size + x2.var() / x2.size)\\n\\n    ci_lo = signal - 1.96 * noise\\n    ci_hi = signal + 1.96 * noise\\n\\n    return ci_lo, ci_hi\";\n",
       "                var nbb_formatted_code = \"def get_95_ci(x1, x2):\\n    \\\"\\\"\\\"Calculate a 95% CI for 2 1d numpy arrays\\\"\\\"\\\"\\n    signal = x1.mean() - x2.mean()\\n    noise = np.sqrt(x1.var() / x1.size + x2.var() / x2.size)\\n\\n    ci_lo = signal - 1.96 * noise\\n    ci_hi = signal + 1.96 * noise\\n\\n    return ci_lo, ci_hi\";\n",
       "                var nbb_cells = Jupyter.notebook.get_cells();\n",
       "                for (var i = 0; i < nbb_cells.length; ++i) {\n",
       "                    if (nbb_cells[i].input_prompt_number == nbb_cell_id) {\n",
       "                        if (nbb_cells[i].get_text() == nbb_unformatted_code) {\n",
       "                             nbb_cells[i].set_text(nbb_formatted_code);\n",
       "                        }\n",
       "                        break;\n",
       "                    }\n",
       "                }\n",
       "            }, 500);\n",
       "            "
      ],
      "text/plain": [
       "<IPython.core.display.Javascript object>"
      ]
     },
     "metadata": {},
     "output_type": "display_data"
    }
   ],
   "source": [
    "def get_95_ci(x1, x2):\n",
    "    \"\"\"Calculate a 95% CI for 2 1d numpy arrays\"\"\"\n",
    "    signal = x1.mean() - x2.mean()\n",
    "    noise = np.sqrt(x1.var() / x1.size + x2.var() / x2.size)\n",
    "\n",
    "    ci_lo = signal - 1.96 * noise\n",
    "    ci_hi = signal + 1.96 * noise\n",
    "\n",
    "    return ci_lo, ci_hi"
   ]
  },
  {
   "cell_type": "code",
   "execution_count": 17,
   "metadata": {},
   "outputs": [
    {
     "data": {
      "text/plain": [
       "(2.867539781199986, 5.920695512917662)"
      ]
     },
     "execution_count": 17,
     "metadata": {},
     "output_type": "execute_result"
    },
    {
     "data": {
      "application/javascript": [
       "\n",
       "            setTimeout(function() {\n",
       "                var nbb_cell_id = 17;\n",
       "                var nbb_unformatted_code = \"get_95_ci(drinks[\\\"Body mass index\\\"], smokes[\\\"Body mass index\\\"])\";\n",
       "                var nbb_formatted_code = \"get_95_ci(drinks[\\\"Body mass index\\\"], smokes[\\\"Body mass index\\\"])\";\n",
       "                var nbb_cells = Jupyter.notebook.get_cells();\n",
       "                for (var i = 0; i < nbb_cells.length; ++i) {\n",
       "                    if (nbb_cells[i].input_prompt_number == nbb_cell_id) {\n",
       "                        if (nbb_cells[i].get_text() == nbb_unformatted_code) {\n",
       "                             nbb_cells[i].set_text(nbb_formatted_code);\n",
       "                        }\n",
       "                        break;\n",
       "                    }\n",
       "                }\n",
       "            }, 500);\n",
       "            "
      ],
      "text/plain": [
       "<IPython.core.display.Javascript object>"
      ]
     },
     "metadata": {},
     "output_type": "display_data"
    }
   ],
   "source": [
    "get_95_ci(drinks[\"Body mass index\"], smokes[\"Body mass index\"])"
   ]
  },
  {
   "cell_type": "code",
   "execution_count": 18,
   "metadata": {},
   "outputs": [
    {
     "data": {
      "application/javascript": [
       "\n",
       "            setTimeout(function() {\n",
       "                var nbb_cell_id = 18;\n",
       "                var nbb_unformatted_code = \"mean_diffs = []\\n\\nfor i in range(10000):\\n    d_sample = drinks[\\\"Body mass index\\\"].sample(frac=1.0, replace=True)\\n    s_sample = smokes[\\\"Body mass index\\\"].sample(frac=1.0, replace=True)\\n    mean_diff = d_sample.mean() - s_sample.mean()\\n    mean_diffs.append(mean_diff)\\n\\nci_lo = np.percentile(mean_diffs, 2.5)\\nci_hi = np.percentile(mean_diffs, 97.5)\";\n",
       "                var nbb_formatted_code = \"mean_diffs = []\\n\\nfor i in range(10000):\\n    d_sample = drinks[\\\"Body mass index\\\"].sample(frac=1.0, replace=True)\\n    s_sample = smokes[\\\"Body mass index\\\"].sample(frac=1.0, replace=True)\\n    mean_diff = d_sample.mean() - s_sample.mean()\\n    mean_diffs.append(mean_diff)\\n\\nci_lo = np.percentile(mean_diffs, 2.5)\\nci_hi = np.percentile(mean_diffs, 97.5)\";\n",
       "                var nbb_cells = Jupyter.notebook.get_cells();\n",
       "                for (var i = 0; i < nbb_cells.length; ++i) {\n",
       "                    if (nbb_cells[i].input_prompt_number == nbb_cell_id) {\n",
       "                        if (nbb_cells[i].get_text() == nbb_unformatted_code) {\n",
       "                             nbb_cells[i].set_text(nbb_formatted_code);\n",
       "                        }\n",
       "                        break;\n",
       "                    }\n",
       "                }\n",
       "            }, 500);\n",
       "            "
      ],
      "text/plain": [
       "<IPython.core.display.Javascript object>"
      ]
     },
     "metadata": {},
     "output_type": "display_data"
    }
   ],
   "source": [
    "mean_diffs = []\n",
    "\n",
    "for i in range(10000):\n",
    "    d_sample = drinks[\"Body mass index\"].sample(frac=1.0, replace=True)\n",
    "    s_sample = smokes[\"Body mass index\"].sample(frac=1.0, replace=True)\n",
    "    mean_diff = d_sample.mean() - s_sample.mean()\n",
    "    mean_diffs.append(mean_diff)\n",
    "\n",
    "ci_lo = np.percentile(mean_diffs, 2.5)\n",
    "ci_hi = np.percentile(mean_diffs, 97.5)"
   ]
  },
  {
   "cell_type": "code",
   "execution_count": 19,
   "metadata": {},
   "outputs": [
    {
     "data": {
      "text/plain": [
       "(2.7739227941176465, 5.824437500000003)"
      ]
     },
     "execution_count": 19,
     "metadata": {},
     "output_type": "execute_result"
    },
    {
     "data": {
      "application/javascript": [
       "\n",
       "            setTimeout(function() {\n",
       "                var nbb_cell_id = 19;\n",
       "                var nbb_unformatted_code = \"(ci_lo, ci_hi)\";\n",
       "                var nbb_formatted_code = \"(ci_lo, ci_hi)\";\n",
       "                var nbb_cells = Jupyter.notebook.get_cells();\n",
       "                for (var i = 0; i < nbb_cells.length; ++i) {\n",
       "                    if (nbb_cells[i].input_prompt_number == nbb_cell_id) {\n",
       "                        if (nbb_cells[i].get_text() == nbb_unformatted_code) {\n",
       "                             nbb_cells[i].set_text(nbb_formatted_code);\n",
       "                        }\n",
       "                        break;\n",
       "                    }\n",
       "                }\n",
       "            }, 500);\n",
       "            "
      ],
      "text/plain": [
       "<IPython.core.display.Javascript object>"
      ]
     },
     "metadata": {},
     "output_type": "display_data"
    }
   ],
   "source": [
    "(ci_lo, ci_hi)"
   ]
  },
  {
   "cell_type": "code",
   "execution_count": null,
   "metadata": {},
   "outputs": [],
   "source": []
  }
 ],
 "metadata": {
  "colab": {
   "collapsed_sections": [],
   "name": "Copy of Day 12 Lecture 1 Assignment.ipynb",
   "provenance": [
    {
     "file_id": "1UNcucNJ8TxGZVQgpIPLlFVvSHhTaUu7A",
     "timestamp": 1605025028374
    }
   ]
  },
  "kernelspec": {
   "display_name": "Python 3",
   "language": "python",
   "name": "python3"
  },
  "language_info": {
   "codemirror_mode": {
    "name": "ipython",
    "version": 3
   },
   "file_extension": ".py",
   "mimetype": "text/x-python",
   "name": "python",
   "nbconvert_exporter": "python",
   "pygments_lexer": "ipython3",
   "version": "3.7.7"
  }
 },
 "nbformat": 4,
 "nbformat_minor": 1
}
