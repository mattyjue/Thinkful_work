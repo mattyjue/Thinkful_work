{
 "cells": [
  {
   "cell_type": "code",
   "execution_count": 22,
   "metadata": {},
   "outputs": [
    {
     "data": {
      "application/javascript": [
       "\n",
       "            setTimeout(function() {\n",
       "                var nbb_cell_id = 22;\n",
       "                var nbb_unformatted_code = \"%reload_ext nb_black\";\n",
       "                var nbb_formatted_code = \"%reload_ext nb_black\";\n",
       "                var nbb_cells = Jupyter.notebook.get_cells();\n",
       "                for (var i = 0; i < nbb_cells.length; ++i) {\n",
       "                    if (nbb_cells[i].input_prompt_number == nbb_cell_id) {\n",
       "                        if (nbb_cells[i].get_text() == nbb_unformatted_code) {\n",
       "                             nbb_cells[i].set_text(nbb_formatted_code);\n",
       "                        }\n",
       "                        break;\n",
       "                    }\n",
       "                }\n",
       "            }, 500);\n",
       "            "
      ],
      "text/plain": [
       "<IPython.core.display.Javascript object>"
      ]
     },
     "metadata": {},
     "output_type": "display_data"
    },
    {
     "data": {
      "application/javascript": [
       "\n",
       "            setTimeout(function() {\n",
       "                var nbb_cell_id = 22;\n",
       "                var nbb_unformatted_code = \"%reload_ext nb_black\";\n",
       "                var nbb_formatted_code = \"%reload_ext nb_black\";\n",
       "                var nbb_cells = Jupyter.notebook.get_cells();\n",
       "                for (var i = 0; i < nbb_cells.length; ++i) {\n",
       "                    if (nbb_cells[i].input_prompt_number == nbb_cell_id) {\n",
       "                        if (nbb_cells[i].get_text() == nbb_unformatted_code) {\n",
       "                             nbb_cells[i].set_text(nbb_formatted_code);\n",
       "                        }\n",
       "                        break;\n",
       "                    }\n",
       "                }\n",
       "            }, 500);\n",
       "            "
      ],
      "text/plain": [
       "<IPython.core.display.Javascript object>"
      ]
     },
     "metadata": {},
     "output_type": "display_data"
    },
    {
     "data": {
      "application/javascript": [
       "\n",
       "            setTimeout(function() {\n",
       "                var nbb_cell_id = 22;\n",
       "                var nbb_unformatted_code = \"%reload_ext nb_black\";\n",
       "                var nbb_formatted_code = \"%reload_ext nb_black\";\n",
       "                var nbb_cells = Jupyter.notebook.get_cells();\n",
       "                for (var i = 0; i < nbb_cells.length; ++i) {\n",
       "                    if (nbb_cells[i].input_prompt_number == nbb_cell_id) {\n",
       "                        if (nbb_cells[i].get_text() == nbb_unformatted_code) {\n",
       "                             nbb_cells[i].set_text(nbb_formatted_code);\n",
       "                        }\n",
       "                        break;\n",
       "                    }\n",
       "                }\n",
       "            }, 500);\n",
       "            "
      ],
      "text/plain": [
       "<IPython.core.display.Javascript object>"
      ]
     },
     "metadata": {},
     "output_type": "display_data"
    }
   ],
   "source": [
    "%reload_ext nb_black"
   ]
  },
  {
   "cell_type": "code",
   "execution_count": 23,
   "metadata": {},
   "outputs": [
    {
     "data": {
      "application/javascript": [
       "\n",
       "            setTimeout(function() {\n",
       "                var nbb_cell_id = 23;\n",
       "                var nbb_unformatted_code = \"import numpy as np\\nimport pandas as pd\\nimport matplotlib.pyplot as plt\\nfrom sklearn.preprocessing import StandardScaler\\nfrom sklearn.model_selection import train_test_split\\nfrom sklearn.cluster import KMeans, MiniBatchKMeans\\nfrom sklearn.mixture import GaussianMixture\\nfrom scipy.spatial.distance import pdist, squareform\\nfrom sklearn.cluster import AgglomerativeClustering, DBSCAN\\n\\nimport scipy\\nimport seaborn as sns\\n\\n\\nfrom sklearn.decomposition import PCA\\nfrom sklearn import datasets, metrics\\nfrom sqlalchemy import create_engine\";\n",
       "                var nbb_formatted_code = \"import numpy as np\\nimport pandas as pd\\nimport matplotlib.pyplot as plt\\nfrom sklearn.preprocessing import StandardScaler\\nfrom sklearn.model_selection import train_test_split\\nfrom sklearn.cluster import KMeans, MiniBatchKMeans\\nfrom sklearn.mixture import GaussianMixture\\nfrom scipy.spatial.distance import pdist, squareform\\nfrom sklearn.cluster import AgglomerativeClustering, DBSCAN\\n\\nimport scipy\\nimport seaborn as sns\\n\\n\\nfrom sklearn.decomposition import PCA\\nfrom sklearn import datasets, metrics\\nfrom sqlalchemy import create_engine\";\n",
       "                var nbb_cells = Jupyter.notebook.get_cells();\n",
       "                for (var i = 0; i < nbb_cells.length; ++i) {\n",
       "                    if (nbb_cells[i].input_prompt_number == nbb_cell_id) {\n",
       "                        if (nbb_cells[i].get_text() == nbb_unformatted_code) {\n",
       "                             nbb_cells[i].set_text(nbb_formatted_code);\n",
       "                        }\n",
       "                        break;\n",
       "                    }\n",
       "                }\n",
       "            }, 500);\n",
       "            "
      ],
      "text/plain": [
       "<IPython.core.display.Javascript object>"
      ]
     },
     "metadata": {},
     "output_type": "display_data"
    },
    {
     "data": {
      "application/javascript": [
       "\n",
       "            setTimeout(function() {\n",
       "                var nbb_cell_id = 23;\n",
       "                var nbb_unformatted_code = \"import numpy as np\\nimport pandas as pd\\nimport matplotlib.pyplot as plt\\nfrom sklearn.preprocessing import StandardScaler\\nfrom sklearn.model_selection import train_test_split\\nfrom sklearn.cluster import KMeans, MiniBatchKMeans\\nfrom sklearn.mixture import GaussianMixture\\nfrom scipy.spatial.distance import pdist, squareform\\nfrom sklearn.cluster import AgglomerativeClustering, DBSCAN\\n\\nimport scipy\\nimport seaborn as sns\\n\\n\\nfrom sklearn.decomposition import PCA\\nfrom sklearn import datasets, metrics\\nfrom sqlalchemy import create_engine\";\n",
       "                var nbb_formatted_code = \"import numpy as np\\nimport pandas as pd\\nimport matplotlib.pyplot as plt\\nfrom sklearn.preprocessing import StandardScaler\\nfrom sklearn.model_selection import train_test_split\\nfrom sklearn.cluster import KMeans, MiniBatchKMeans\\nfrom sklearn.mixture import GaussianMixture\\nfrom scipy.spatial.distance import pdist, squareform\\nfrom sklearn.cluster import AgglomerativeClustering, DBSCAN\\n\\nimport scipy\\nimport seaborn as sns\\n\\n\\nfrom sklearn.decomposition import PCA\\nfrom sklearn import datasets, metrics\\nfrom sqlalchemy import create_engine\";\n",
       "                var nbb_cells = Jupyter.notebook.get_cells();\n",
       "                for (var i = 0; i < nbb_cells.length; ++i) {\n",
       "                    if (nbb_cells[i].input_prompt_number == nbb_cell_id) {\n",
       "                        if (nbb_cells[i].get_text() == nbb_unformatted_code) {\n",
       "                             nbb_cells[i].set_text(nbb_formatted_code);\n",
       "                        }\n",
       "                        break;\n",
       "                    }\n",
       "                }\n",
       "            }, 500);\n",
       "            "
      ],
      "text/plain": [
       "<IPython.core.display.Javascript object>"
      ]
     },
     "metadata": {},
     "output_type": "display_data"
    },
    {
     "data": {
      "application/javascript": [
       "\n",
       "            setTimeout(function() {\n",
       "                var nbb_cell_id = 23;\n",
       "                var nbb_unformatted_code = \"import numpy as np\\nimport pandas as pd\\nimport matplotlib.pyplot as plt\\nfrom sklearn.preprocessing import StandardScaler\\nfrom sklearn.model_selection import train_test_split\\nfrom sklearn.cluster import KMeans, MiniBatchKMeans\\nfrom sklearn.mixture import GaussianMixture\\nfrom scipy.spatial.distance import pdist, squareform\\nfrom sklearn.cluster import AgglomerativeClustering, DBSCAN\\n\\nimport scipy\\nimport seaborn as sns\\n\\n\\nfrom sklearn.decomposition import PCA\\nfrom sklearn import datasets, metrics\\nfrom sqlalchemy import create_engine\";\n",
       "                var nbb_formatted_code = \"import numpy as np\\nimport pandas as pd\\nimport matplotlib.pyplot as plt\\nfrom sklearn.preprocessing import StandardScaler\\nfrom sklearn.model_selection import train_test_split\\nfrom sklearn.cluster import KMeans, MiniBatchKMeans\\nfrom sklearn.mixture import GaussianMixture\\nfrom scipy.spatial.distance import pdist, squareform\\nfrom sklearn.cluster import AgglomerativeClustering, DBSCAN\\n\\nimport scipy\\nimport seaborn as sns\\n\\n\\nfrom sklearn.decomposition import PCA\\nfrom sklearn import datasets, metrics\\nfrom sqlalchemy import create_engine\";\n",
       "                var nbb_cells = Jupyter.notebook.get_cells();\n",
       "                for (var i = 0; i < nbb_cells.length; ++i) {\n",
       "                    if (nbb_cells[i].input_prompt_number == nbb_cell_id) {\n",
       "                        if (nbb_cells[i].get_text() == nbb_unformatted_code) {\n",
       "                             nbb_cells[i].set_text(nbb_formatted_code);\n",
       "                        }\n",
       "                        break;\n",
       "                    }\n",
       "                }\n",
       "            }, 500);\n",
       "            "
      ],
      "text/plain": [
       "<IPython.core.display.Javascript object>"
      ]
     },
     "metadata": {},
     "output_type": "display_data"
    }
   ],
   "source": [
    "import numpy as np\n",
    "import pandas as pd\n",
    "import matplotlib.pyplot as plt\n",
    "from sklearn.preprocessing import StandardScaler\n",
    "from sklearn.model_selection import train_test_split\n",
    "from sklearn.cluster import KMeans, MiniBatchKMeans\n",
    "from sklearn.mixture import GaussianMixture\n",
    "from scipy.spatial.distance import pdist, squareform\n",
    "from sklearn.cluster import AgglomerativeClustering, DBSCAN\n",
    "\n",
    "import scipy\n",
    "import seaborn as sns\n",
    "\n",
    "\n",
    "from sklearn.decomposition import PCA\n",
    "from sklearn import datasets, metrics\n",
    "from sqlalchemy import create_engine"
   ]
  },
  {
   "cell_type": "code",
   "execution_count": 24,
   "metadata": {},
   "outputs": [
    {
     "data": {
      "application/javascript": [
       "\n",
       "            setTimeout(function() {\n",
       "                var nbb_cell_id = 24;\n",
       "                var nbb_unformatted_code = \"postgres_user = \\\"dsbc_student\\\"\\npostgres_pw = \\\"7*.8G9QH21\\\"\\npostgres_host = \\\"142.93.121.174\\\"\\npostgres_port = \\\"5432\\\"\\npostgres_db = \\\"heartdisease\\\"\";\n",
       "                var nbb_formatted_code = \"postgres_user = \\\"dsbc_student\\\"\\npostgres_pw = \\\"7*.8G9QH21\\\"\\npostgres_host = \\\"142.93.121.174\\\"\\npostgres_port = \\\"5432\\\"\\npostgres_db = \\\"heartdisease\\\"\";\n",
       "                var nbb_cells = Jupyter.notebook.get_cells();\n",
       "                for (var i = 0; i < nbb_cells.length; ++i) {\n",
       "                    if (nbb_cells[i].input_prompt_number == nbb_cell_id) {\n",
       "                        if (nbb_cells[i].get_text() == nbb_unformatted_code) {\n",
       "                             nbb_cells[i].set_text(nbb_formatted_code);\n",
       "                        }\n",
       "                        break;\n",
       "                    }\n",
       "                }\n",
       "            }, 500);\n",
       "            "
      ],
      "text/plain": [
       "<IPython.core.display.Javascript object>"
      ]
     },
     "metadata": {},
     "output_type": "display_data"
    },
    {
     "data": {
      "application/javascript": [
       "\n",
       "            setTimeout(function() {\n",
       "                var nbb_cell_id = 24;\n",
       "                var nbb_unformatted_code = \"postgres_user = \\\"dsbc_student\\\"\\npostgres_pw = \\\"7*.8G9QH21\\\"\\npostgres_host = \\\"142.93.121.174\\\"\\npostgres_port = \\\"5432\\\"\\npostgres_db = \\\"heartdisease\\\"\";\n",
       "                var nbb_formatted_code = \"postgres_user = \\\"dsbc_student\\\"\\npostgres_pw = \\\"7*.8G9QH21\\\"\\npostgres_host = \\\"142.93.121.174\\\"\\npostgres_port = \\\"5432\\\"\\npostgres_db = \\\"heartdisease\\\"\";\n",
       "                var nbb_cells = Jupyter.notebook.get_cells();\n",
       "                for (var i = 0; i < nbb_cells.length; ++i) {\n",
       "                    if (nbb_cells[i].input_prompt_number == nbb_cell_id) {\n",
       "                        if (nbb_cells[i].get_text() == nbb_unformatted_code) {\n",
       "                             nbb_cells[i].set_text(nbb_formatted_code);\n",
       "                        }\n",
       "                        break;\n",
       "                    }\n",
       "                }\n",
       "            }, 500);\n",
       "            "
      ],
      "text/plain": [
       "<IPython.core.display.Javascript object>"
      ]
     },
     "metadata": {},
     "output_type": "display_data"
    },
    {
     "data": {
      "application/javascript": [
       "\n",
       "            setTimeout(function() {\n",
       "                var nbb_cell_id = 24;\n",
       "                var nbb_unformatted_code = \"postgres_user = \\\"dsbc_student\\\"\\npostgres_pw = \\\"7*.8G9QH21\\\"\\npostgres_host = \\\"142.93.121.174\\\"\\npostgres_port = \\\"5432\\\"\\npostgres_db = \\\"heartdisease\\\"\";\n",
       "                var nbb_formatted_code = \"postgres_user = \\\"dsbc_student\\\"\\npostgres_pw = \\\"7*.8G9QH21\\\"\\npostgres_host = \\\"142.93.121.174\\\"\\npostgres_port = \\\"5432\\\"\\npostgres_db = \\\"heartdisease\\\"\";\n",
       "                var nbb_cells = Jupyter.notebook.get_cells();\n",
       "                for (var i = 0; i < nbb_cells.length; ++i) {\n",
       "                    if (nbb_cells[i].input_prompt_number == nbb_cell_id) {\n",
       "                        if (nbb_cells[i].get_text() == nbb_unformatted_code) {\n",
       "                             nbb_cells[i].set_text(nbb_formatted_code);\n",
       "                        }\n",
       "                        break;\n",
       "                    }\n",
       "                }\n",
       "            }, 500);\n",
       "            "
      ],
      "text/plain": [
       "<IPython.core.display.Javascript object>"
      ]
     },
     "metadata": {},
     "output_type": "display_data"
    }
   ],
   "source": [
    "postgres_user = \"dsbc_student\"\n",
    "postgres_pw = \"7*.8G9QH21\"\n",
    "postgres_host = \"142.93.121.174\"\n",
    "postgres_port = \"5432\"\n",
    "postgres_db = \"heartdisease\""
   ]
  },
  {
   "cell_type": "code",
   "execution_count": 25,
   "metadata": {},
   "outputs": [
    {
     "data": {
      "application/javascript": [
       "\n",
       "            setTimeout(function() {\n",
       "                var nbb_cell_id = 25;\n",
       "                var nbb_unformatted_code = \"engine = create_engine(\\n    \\\"postgresql://{}:{}@{}:{}/{}\\\".format(\\n        postgres_user, postgres_pw, postgres_host, postgres_port, postgres_db\\n    )\\n)\\n\\ndf = pd.read_sql_query(\\\"select * from heartdisease\\\", con=engine)\\nengine.dispose()\";\n",
       "                var nbb_formatted_code = \"engine = create_engine(\\n    \\\"postgresql://{}:{}@{}:{}/{}\\\".format(\\n        postgres_user, postgres_pw, postgres_host, postgres_port, postgres_db\\n    )\\n)\\n\\ndf = pd.read_sql_query(\\\"select * from heartdisease\\\", con=engine)\\nengine.dispose()\";\n",
       "                var nbb_cells = Jupyter.notebook.get_cells();\n",
       "                for (var i = 0; i < nbb_cells.length; ++i) {\n",
       "                    if (nbb_cells[i].input_prompt_number == nbb_cell_id) {\n",
       "                        if (nbb_cells[i].get_text() == nbb_unformatted_code) {\n",
       "                             nbb_cells[i].set_text(nbb_formatted_code);\n",
       "                        }\n",
       "                        break;\n",
       "                    }\n",
       "                }\n",
       "            }, 500);\n",
       "            "
      ],
      "text/plain": [
       "<IPython.core.display.Javascript object>"
      ]
     },
     "metadata": {},
     "output_type": "display_data"
    },
    {
     "data": {
      "application/javascript": [
       "\n",
       "            setTimeout(function() {\n",
       "                var nbb_cell_id = 25;\n",
       "                var nbb_unformatted_code = \"engine = create_engine(\\n    \\\"postgresql://{}:{}@{}:{}/{}\\\".format(\\n        postgres_user, postgres_pw, postgres_host, postgres_port, postgres_db\\n    )\\n)\\n\\ndf = pd.read_sql_query(\\\"select * from heartdisease\\\", con=engine)\\nengine.dispose()\";\n",
       "                var nbb_formatted_code = \"engine = create_engine(\\n    \\\"postgresql://{}:{}@{}:{}/{}\\\".format(\\n        postgres_user, postgres_pw, postgres_host, postgres_port, postgres_db\\n    )\\n)\\n\\ndf = pd.read_sql_query(\\\"select * from heartdisease\\\", con=engine)\\nengine.dispose()\";\n",
       "                var nbb_cells = Jupyter.notebook.get_cells();\n",
       "                for (var i = 0; i < nbb_cells.length; ++i) {\n",
       "                    if (nbb_cells[i].input_prompt_number == nbb_cell_id) {\n",
       "                        if (nbb_cells[i].get_text() == nbb_unformatted_code) {\n",
       "                             nbb_cells[i].set_text(nbb_formatted_code);\n",
       "                        }\n",
       "                        break;\n",
       "                    }\n",
       "                }\n",
       "            }, 500);\n",
       "            "
      ],
      "text/plain": [
       "<IPython.core.display.Javascript object>"
      ]
     },
     "metadata": {},
     "output_type": "display_data"
    },
    {
     "data": {
      "application/javascript": [
       "\n",
       "            setTimeout(function() {\n",
       "                var nbb_cell_id = 25;\n",
       "                var nbb_unformatted_code = \"engine = create_engine(\\n    \\\"postgresql://{}:{}@{}:{}/{}\\\".format(\\n        postgres_user, postgres_pw, postgres_host, postgres_port, postgres_db\\n    )\\n)\\n\\ndf = pd.read_sql_query(\\\"select * from heartdisease\\\", con=engine)\\nengine.dispose()\";\n",
       "                var nbb_formatted_code = \"engine = create_engine(\\n    \\\"postgresql://{}:{}@{}:{}/{}\\\".format(\\n        postgres_user, postgres_pw, postgres_host, postgres_port, postgres_db\\n    )\\n)\\n\\ndf = pd.read_sql_query(\\\"select * from heartdisease\\\", con=engine)\\nengine.dispose()\";\n",
       "                var nbb_cells = Jupyter.notebook.get_cells();\n",
       "                for (var i = 0; i < nbb_cells.length; ++i) {\n",
       "                    if (nbb_cells[i].input_prompt_number == nbb_cell_id) {\n",
       "                        if (nbb_cells[i].get_text() == nbb_unformatted_code) {\n",
       "                             nbb_cells[i].set_text(nbb_formatted_code);\n",
       "                        }\n",
       "                        break;\n",
       "                    }\n",
       "                }\n",
       "            }, 500);\n",
       "            "
      ],
      "text/plain": [
       "<IPython.core.display.Javascript object>"
      ]
     },
     "metadata": {},
     "output_type": "display_data"
    }
   ],
   "source": [
    "engine = create_engine(\n",
    "    \"postgresql://{}:{}@{}:{}/{}\".format(\n",
    "        postgres_user, postgres_pw, postgres_host, postgres_port, postgres_db\n",
    "    )\n",
    ")\n",
    "\n",
    "df = pd.read_sql_query(\"select * from heartdisease\", con=engine)\n",
    "engine.dispose()"
   ]
  },
  {
   "cell_type": "code",
   "execution_count": 26,
   "metadata": {},
   "outputs": [
    {
     "data": {
      "application/javascript": [
       "\n",
       "            setTimeout(function() {\n",
       "                var nbb_cell_id = 26;\n",
       "                var nbb_unformatted_code = \"X = df.iloc[:, :13]\\ny = df.iloc[:, 13]\\n\\n# Replace missing values (marked by `?`) with a `0`\\nX = X.replace(to_replace=\\\"?\\\", value=0)\\n\\n# Binarize `y` so that `1` means heart disease diagnosis and `0` means no diagnosis\\ny = np.where(y > 0, 0, 1)\";\n",
       "                var nbb_formatted_code = \"X = df.iloc[:, :13]\\ny = df.iloc[:, 13]\\n\\n# Replace missing values (marked by `?`) with a `0`\\nX = X.replace(to_replace=\\\"?\\\", value=0)\\n\\n# Binarize `y` so that `1` means heart disease diagnosis and `0` means no diagnosis\\ny = np.where(y > 0, 0, 1)\";\n",
       "                var nbb_cells = Jupyter.notebook.get_cells();\n",
       "                for (var i = 0; i < nbb_cells.length; ++i) {\n",
       "                    if (nbb_cells[i].input_prompt_number == nbb_cell_id) {\n",
       "                        if (nbb_cells[i].get_text() == nbb_unformatted_code) {\n",
       "                             nbb_cells[i].set_text(nbb_formatted_code);\n",
       "                        }\n",
       "                        break;\n",
       "                    }\n",
       "                }\n",
       "            }, 500);\n",
       "            "
      ],
      "text/plain": [
       "<IPython.core.display.Javascript object>"
      ]
     },
     "metadata": {},
     "output_type": "display_data"
    },
    {
     "data": {
      "application/javascript": [
       "\n",
       "            setTimeout(function() {\n",
       "                var nbb_cell_id = 26;\n",
       "                var nbb_unformatted_code = \"X = df.iloc[:, :13]\\ny = df.iloc[:, 13]\\n\\n# Replace missing values (marked by `?`) with a `0`\\nX = X.replace(to_replace=\\\"?\\\", value=0)\\n\\n# Binarize `y` so that `1` means heart disease diagnosis and `0` means no diagnosis\\ny = np.where(y > 0, 0, 1)\";\n",
       "                var nbb_formatted_code = \"X = df.iloc[:, :13]\\ny = df.iloc[:, 13]\\n\\n# Replace missing values (marked by `?`) with a `0`\\nX = X.replace(to_replace=\\\"?\\\", value=0)\\n\\n# Binarize `y` so that `1` means heart disease diagnosis and `0` means no diagnosis\\ny = np.where(y > 0, 0, 1)\";\n",
       "                var nbb_cells = Jupyter.notebook.get_cells();\n",
       "                for (var i = 0; i < nbb_cells.length; ++i) {\n",
       "                    if (nbb_cells[i].input_prompt_number == nbb_cell_id) {\n",
       "                        if (nbb_cells[i].get_text() == nbb_unformatted_code) {\n",
       "                             nbb_cells[i].set_text(nbb_formatted_code);\n",
       "                        }\n",
       "                        break;\n",
       "                    }\n",
       "                }\n",
       "            }, 500);\n",
       "            "
      ],
      "text/plain": [
       "<IPython.core.display.Javascript object>"
      ]
     },
     "metadata": {},
     "output_type": "display_data"
    },
    {
     "data": {
      "application/javascript": [
       "\n",
       "            setTimeout(function() {\n",
       "                var nbb_cell_id = 26;\n",
       "                var nbb_unformatted_code = \"X = df.iloc[:, :13]\\ny = df.iloc[:, 13]\\n\\n# Replace missing values (marked by `?`) with a `0`\\nX = X.replace(to_replace=\\\"?\\\", value=0)\\n\\n# Binarize `y` so that `1` means heart disease diagnosis and `0` means no diagnosis\\ny = np.where(y > 0, 0, 1)\";\n",
       "                var nbb_formatted_code = \"X = df.iloc[:, :13]\\ny = df.iloc[:, 13]\\n\\n# Replace missing values (marked by `?`) with a `0`\\nX = X.replace(to_replace=\\\"?\\\", value=0)\\n\\n# Binarize `y` so that `1` means heart disease diagnosis and `0` means no diagnosis\\ny = np.where(y > 0, 0, 1)\";\n",
       "                var nbb_cells = Jupyter.notebook.get_cells();\n",
       "                for (var i = 0; i < nbb_cells.length; ++i) {\n",
       "                    if (nbb_cells[i].input_prompt_number == nbb_cell_id) {\n",
       "                        if (nbb_cells[i].get_text() == nbb_unformatted_code) {\n",
       "                             nbb_cells[i].set_text(nbb_formatted_code);\n",
       "                        }\n",
       "                        break;\n",
       "                    }\n",
       "                }\n",
       "            }, 500);\n",
       "            "
      ],
      "text/plain": [
       "<IPython.core.display.Javascript object>"
      ]
     },
     "metadata": {},
     "output_type": "display_data"
    }
   ],
   "source": [
    "X = df.iloc[:, :13]\n",
    "y = df.iloc[:, 13]\n",
    "\n",
    "# Replace missing values (marked by `?`) with a `0`\n",
    "X = X.replace(to_replace=\"?\", value=0)\n",
    "\n",
    "# Binarize `y` so that `1` means heart disease diagnosis and `0` means no diagnosis\n",
    "y = np.where(y > 0, 0, 1)"
   ]
  },
  {
   "cell_type": "code",
   "execution_count": 27,
   "metadata": {
    "scrolled": true
   },
   "outputs": [
    {
     "data": {
      "text/html": [
       "<div>\n",
       "<style scoped>\n",
       "    .dataframe tbody tr th:only-of-type {\n",
       "        vertical-align: middle;\n",
       "    }\n",
       "\n",
       "    .dataframe tbody tr th {\n",
       "        vertical-align: top;\n",
       "    }\n",
       "\n",
       "    .dataframe thead th {\n",
       "        text-align: right;\n",
       "    }\n",
       "</style>\n",
       "<table border=\"1\" class=\"dataframe\">\n",
       "  <thead>\n",
       "    <tr style=\"text-align: right;\">\n",
       "      <th></th>\n",
       "      <th>0</th>\n",
       "      <th>1</th>\n",
       "      <th>2</th>\n",
       "      <th>3</th>\n",
       "      <th>4</th>\n",
       "      <th>5</th>\n",
       "      <th>6</th>\n",
       "      <th>7</th>\n",
       "      <th>8</th>\n",
       "      <th>9</th>\n",
       "      <th>10</th>\n",
       "      <th>11</th>\n",
       "      <th>12</th>\n",
       "    </tr>\n",
       "  </thead>\n",
       "  <tbody>\n",
       "    <tr>\n",
       "      <th>0</th>\n",
       "      <td>0.948726</td>\n",
       "      <td>0.686202</td>\n",
       "      <td>-2.251775</td>\n",
       "      <td>0.757525</td>\n",
       "      <td>-0.264900</td>\n",
       "      <td>2.394438</td>\n",
       "      <td>1.016684</td>\n",
       "      <td>0.017197</td>\n",
       "      <td>-0.696631</td>\n",
       "      <td>1.087338</td>\n",
       "      <td>2.274579</td>\n",
       "      <td>-0.711131</td>\n",
       "      <td>0.659133</td>\n",
       "    </tr>\n",
       "    <tr>\n",
       "      <th>1</th>\n",
       "      <td>1.392002</td>\n",
       "      <td>0.686202</td>\n",
       "      <td>0.877985</td>\n",
       "      <td>1.611220</td>\n",
       "      <td>0.760415</td>\n",
       "      <td>-0.417635</td>\n",
       "      <td>1.016684</td>\n",
       "      <td>-1.821905</td>\n",
       "      <td>1.435481</td>\n",
       "      <td>0.397182</td>\n",
       "      <td>0.649113</td>\n",
       "      <td>2.504881</td>\n",
       "      <td>-0.865426</td>\n",
       "    </tr>\n",
       "    <tr>\n",
       "      <th>2</th>\n",
       "      <td>1.392002</td>\n",
       "      <td>0.686202</td>\n",
       "      <td>0.877985</td>\n",
       "      <td>-0.665300</td>\n",
       "      <td>-0.342283</td>\n",
       "      <td>-0.417635</td>\n",
       "      <td>1.016684</td>\n",
       "      <td>-0.902354</td>\n",
       "      <td>1.435481</td>\n",
       "      <td>1.346147</td>\n",
       "      <td>0.649113</td>\n",
       "      <td>1.432877</td>\n",
       "      <td>1.167319</td>\n",
       "    </tr>\n",
       "    <tr>\n",
       "      <th>3</th>\n",
       "      <td>-1.932564</td>\n",
       "      <td>0.686202</td>\n",
       "      <td>-0.165268</td>\n",
       "      <td>-0.096170</td>\n",
       "      <td>0.063974</td>\n",
       "      <td>-0.417635</td>\n",
       "      <td>-0.996749</td>\n",
       "      <td>1.637359</td>\n",
       "      <td>-0.696631</td>\n",
       "      <td>2.122573</td>\n",
       "      <td>2.274579</td>\n",
       "      <td>-0.711131</td>\n",
       "      <td>-0.865426</td>\n",
       "    </tr>\n",
       "    <tr>\n",
       "      <th>4</th>\n",
       "      <td>-1.489288</td>\n",
       "      <td>-1.457296</td>\n",
       "      <td>-1.208521</td>\n",
       "      <td>-0.096170</td>\n",
       "      <td>-0.825922</td>\n",
       "      <td>-0.417635</td>\n",
       "      <td>1.016684</td>\n",
       "      <td>0.980537</td>\n",
       "      <td>-0.696631</td>\n",
       "      <td>0.310912</td>\n",
       "      <td>-0.976352</td>\n",
       "      <td>-0.711131</td>\n",
       "      <td>-0.865426</td>\n",
       "    </tr>\n",
       "  </tbody>\n",
       "</table>\n",
       "</div>"
      ],
      "text/plain": [
       "          0         1         2         3         4         5         6  \\\n",
       "0  0.948726  0.686202 -2.251775  0.757525 -0.264900  2.394438  1.016684   \n",
       "1  1.392002  0.686202  0.877985  1.611220  0.760415 -0.417635  1.016684   \n",
       "2  1.392002  0.686202  0.877985 -0.665300 -0.342283 -0.417635  1.016684   \n",
       "3 -1.932564  0.686202 -0.165268 -0.096170  0.063974 -0.417635 -0.996749   \n",
       "4 -1.489288 -1.457296 -1.208521 -0.096170 -0.825922 -0.417635  1.016684   \n",
       "\n",
       "          7         8         9        10        11        12  \n",
       "0  0.017197 -0.696631  1.087338  2.274579 -0.711131  0.659133  \n",
       "1 -1.821905  1.435481  0.397182  0.649113  2.504881 -0.865426  \n",
       "2 -0.902354  1.435481  1.346147  0.649113  1.432877  1.167319  \n",
       "3  1.637359 -0.696631  2.122573  2.274579 -0.711131 -0.865426  \n",
       "4  0.980537 -0.696631  0.310912 -0.976352 -0.711131 -0.865426  "
      ]
     },
     "execution_count": 27,
     "metadata": {},
     "output_type": "execute_result"
    },
    {
     "data": {
      "application/javascript": [
       "\n",
       "            setTimeout(function() {\n",
       "                var nbb_cell_id = 27;\n",
       "                var nbb_unformatted_code = \"scaler = StandardScaler()\\nscaled = scaler.fit_transform(X)\\nscaled_df = pd.DataFrame(scaled, columns=X.columns)\\nscaled_df.head()\";\n",
       "                var nbb_formatted_code = \"scaler = StandardScaler()\\nscaled = scaler.fit_transform(X)\\nscaled_df = pd.DataFrame(scaled, columns=X.columns)\\nscaled_df.head()\";\n",
       "                var nbb_cells = Jupyter.notebook.get_cells();\n",
       "                for (var i = 0; i < nbb_cells.length; ++i) {\n",
       "                    if (nbb_cells[i].input_prompt_number == nbb_cell_id) {\n",
       "                        if (nbb_cells[i].get_text() == nbb_unformatted_code) {\n",
       "                             nbb_cells[i].set_text(nbb_formatted_code);\n",
       "                        }\n",
       "                        break;\n",
       "                    }\n",
       "                }\n",
       "            }, 500);\n",
       "            "
      ],
      "text/plain": [
       "<IPython.core.display.Javascript object>"
      ]
     },
     "metadata": {},
     "output_type": "display_data"
    },
    {
     "data": {
      "application/javascript": [
       "\n",
       "            setTimeout(function() {\n",
       "                var nbb_cell_id = 27;\n",
       "                var nbb_unformatted_code = \"scaler = StandardScaler()\\nscaled = scaler.fit_transform(X)\\nscaled_df = pd.DataFrame(scaled, columns=X.columns)\\nscaled_df.head()\";\n",
       "                var nbb_formatted_code = \"scaler = StandardScaler()\\nscaled = scaler.fit_transform(X)\\nscaled_df = pd.DataFrame(scaled, columns=X.columns)\\nscaled_df.head()\";\n",
       "                var nbb_cells = Jupyter.notebook.get_cells();\n",
       "                for (var i = 0; i < nbb_cells.length; ++i) {\n",
       "                    if (nbb_cells[i].input_prompt_number == nbb_cell_id) {\n",
       "                        if (nbb_cells[i].get_text() == nbb_unformatted_code) {\n",
       "                             nbb_cells[i].set_text(nbb_formatted_code);\n",
       "                        }\n",
       "                        break;\n",
       "                    }\n",
       "                }\n",
       "            }, 500);\n",
       "            "
      ],
      "text/plain": [
       "<IPython.core.display.Javascript object>"
      ]
     },
     "metadata": {},
     "output_type": "display_data"
    },
    {
     "data": {
      "application/javascript": [
       "\n",
       "            setTimeout(function() {\n",
       "                var nbb_cell_id = 27;\n",
       "                var nbb_unformatted_code = \"scaler = StandardScaler()\\nscaled = scaler.fit_transform(X)\\nscaled_df = pd.DataFrame(scaled, columns=X.columns)\\nscaled_df.head()\";\n",
       "                var nbb_formatted_code = \"scaler = StandardScaler()\\nscaled = scaler.fit_transform(X)\\nscaled_df = pd.DataFrame(scaled, columns=X.columns)\\nscaled_df.head()\";\n",
       "                var nbb_cells = Jupyter.notebook.get_cells();\n",
       "                for (var i = 0; i < nbb_cells.length; ++i) {\n",
       "                    if (nbb_cells[i].input_prompt_number == nbb_cell_id) {\n",
       "                        if (nbb_cells[i].get_text() == nbb_unformatted_code) {\n",
       "                             nbb_cells[i].set_text(nbb_formatted_code);\n",
       "                        }\n",
       "                        break;\n",
       "                    }\n",
       "                }\n",
       "            }, 500);\n",
       "            "
      ],
      "text/plain": [
       "<IPython.core.display.Javascript object>"
      ]
     },
     "metadata": {},
     "output_type": "display_data"
    }
   ],
   "source": [
    "scaler = StandardScaler()\n",
    "scaled = scaler.fit_transform(X)\n",
    "scaled_df = pd.DataFrame(scaled, columns=X.columns)\n",
    "scaled_df.head()"
   ]
  },
  {
   "cell_type": "markdown",
   "metadata": {},
   "source": [
    "### 1. Apply GMM to the heart disease dataset by setting n_components=2. Get ARI and silhouette scores for your solution and compare it with those of the k-means and hierarchical clustering solutions that you implemented in the previous checkpoint assignments. Which algorithm performs best?"
   ]
  },
  {
   "cell_type": "code",
   "execution_count": 28,
   "metadata": {},
   "outputs": [
    {
     "name": "stdout",
     "output_type": "stream",
     "text": [
      "Gauss scaled centroid points with 2 clusters:\n",
      " [[ 0.32278577  0.34253754  0.70353557  0.07234044  0.07213556  0.10642273\n",
      "   0.16477666 -0.59284025  0.66027532  0.55358459  0.36283028  0.65659998\n",
      "   0.75796796]\n",
      " [-0.21979453 -0.2332441  -0.47905851 -0.04925878 -0.04911927 -0.07246644\n",
      "  -0.11220138  0.40368274 -0.44960131 -0.37695238 -0.24706204 -0.44709866\n",
      "  -0.51612316]]\n",
      "\n",
      " Gauss unscaled centroid points with 2 clusters\n"
     ]
    },
    {
     "data": {
      "text/html": [
       "<style  type=\"text/css\" >\n",
       "    #T_ee18eda6_56ae_11eb_b7c2_f4b7e2cc5002row0_col0 {\n",
       "            background-color:  #023858;\n",
       "            color:  #f1f1f1;\n",
       "        }    #T_ee18eda6_56ae_11eb_b7c2_f4b7e2cc5002row0_col1 {\n",
       "            background-color:  #023858;\n",
       "            color:  #f1f1f1;\n",
       "        }    #T_ee18eda6_56ae_11eb_b7c2_f4b7e2cc5002row0_col2 {\n",
       "            background-color:  #023858;\n",
       "            color:  #f1f1f1;\n",
       "        }    #T_ee18eda6_56ae_11eb_b7c2_f4b7e2cc5002row0_col3 {\n",
       "            background-color:  #023858;\n",
       "            color:  #f1f1f1;\n",
       "        }    #T_ee18eda6_56ae_11eb_b7c2_f4b7e2cc5002row0_col4 {\n",
       "            background-color:  #023858;\n",
       "            color:  #f1f1f1;\n",
       "        }    #T_ee18eda6_56ae_11eb_b7c2_f4b7e2cc5002row0_col5 {\n",
       "            background-color:  #023858;\n",
       "            color:  #f1f1f1;\n",
       "        }    #T_ee18eda6_56ae_11eb_b7c2_f4b7e2cc5002row0_col6 {\n",
       "            background-color:  #023858;\n",
       "            color:  #f1f1f1;\n",
       "        }    #T_ee18eda6_56ae_11eb_b7c2_f4b7e2cc5002row0_col7 {\n",
       "            background-color:  #fff7fb;\n",
       "            color:  #000000;\n",
       "        }    #T_ee18eda6_56ae_11eb_b7c2_f4b7e2cc5002row0_col8 {\n",
       "            background-color:  #023858;\n",
       "            color:  #f1f1f1;\n",
       "        }    #T_ee18eda6_56ae_11eb_b7c2_f4b7e2cc5002row0_col9 {\n",
       "            background-color:  #023858;\n",
       "            color:  #f1f1f1;\n",
       "        }    #T_ee18eda6_56ae_11eb_b7c2_f4b7e2cc5002row0_col10 {\n",
       "            background-color:  #023858;\n",
       "            color:  #f1f1f1;\n",
       "        }    #T_ee18eda6_56ae_11eb_b7c2_f4b7e2cc5002row0_col11 {\n",
       "            background-color:  #023858;\n",
       "            color:  #f1f1f1;\n",
       "        }    #T_ee18eda6_56ae_11eb_b7c2_f4b7e2cc5002row0_col12 {\n",
       "            background-color:  #023858;\n",
       "            color:  #f1f1f1;\n",
       "        }    #T_ee18eda6_56ae_11eb_b7c2_f4b7e2cc5002row1_col0 {\n",
       "            background-color:  #fff7fb;\n",
       "            color:  #000000;\n",
       "        }    #T_ee18eda6_56ae_11eb_b7c2_f4b7e2cc5002row1_col1 {\n",
       "            background-color:  #fff7fb;\n",
       "            color:  #000000;\n",
       "        }    #T_ee18eda6_56ae_11eb_b7c2_f4b7e2cc5002row1_col2 {\n",
       "            background-color:  #fff7fb;\n",
       "            color:  #000000;\n",
       "        }    #T_ee18eda6_56ae_11eb_b7c2_f4b7e2cc5002row1_col3 {\n",
       "            background-color:  #fff7fb;\n",
       "            color:  #000000;\n",
       "        }    #T_ee18eda6_56ae_11eb_b7c2_f4b7e2cc5002row1_col4 {\n",
       "            background-color:  #fff7fb;\n",
       "            color:  #000000;\n",
       "        }    #T_ee18eda6_56ae_11eb_b7c2_f4b7e2cc5002row1_col5 {\n",
       "            background-color:  #fff7fb;\n",
       "            color:  #000000;\n",
       "        }    #T_ee18eda6_56ae_11eb_b7c2_f4b7e2cc5002row1_col6 {\n",
       "            background-color:  #fff7fb;\n",
       "            color:  #000000;\n",
       "        }    #T_ee18eda6_56ae_11eb_b7c2_f4b7e2cc5002row1_col7 {\n",
       "            background-color:  #023858;\n",
       "            color:  #f1f1f1;\n",
       "        }    #T_ee18eda6_56ae_11eb_b7c2_f4b7e2cc5002row1_col8 {\n",
       "            background-color:  #fff7fb;\n",
       "            color:  #000000;\n",
       "        }    #T_ee18eda6_56ae_11eb_b7c2_f4b7e2cc5002row1_col9 {\n",
       "            background-color:  #fff7fb;\n",
       "            color:  #000000;\n",
       "        }    #T_ee18eda6_56ae_11eb_b7c2_f4b7e2cc5002row1_col10 {\n",
       "            background-color:  #fff7fb;\n",
       "            color:  #000000;\n",
       "        }    #T_ee18eda6_56ae_11eb_b7c2_f4b7e2cc5002row1_col11 {\n",
       "            background-color:  #fff7fb;\n",
       "            color:  #000000;\n",
       "        }    #T_ee18eda6_56ae_11eb_b7c2_f4b7e2cc5002row1_col12 {\n",
       "            background-color:  #fff7fb;\n",
       "            color:  #000000;\n",
       "        }</style><table id=\"T_ee18eda6_56ae_11eb_b7c2_f4b7e2cc5002\" ><thead>    <tr>        <th class=\"blank level0\" ></th>        <th class=\"col_heading level0 col0\" >0</th>        <th class=\"col_heading level0 col1\" >1</th>        <th class=\"col_heading level0 col2\" >2</th>        <th class=\"col_heading level0 col3\" >3</th>        <th class=\"col_heading level0 col4\" >4</th>        <th class=\"col_heading level0 col5\" >5</th>        <th class=\"col_heading level0 col6\" >6</th>        <th class=\"col_heading level0 col7\" >7</th>        <th class=\"col_heading level0 col8\" >8</th>        <th class=\"col_heading level0 col9\" >9</th>        <th class=\"col_heading level0 col10\" >10</th>        <th class=\"col_heading level0 col11\" >11</th>        <th class=\"col_heading level0 col12\" >12</th>    </tr></thead><tbody>\n",
       "                <tr>\n",
       "                        <th id=\"T_ee18eda6_56ae_11eb_b7c2_f4b7e2cc5002level0_row0\" class=\"row_heading level0 row0\" >0</th>\n",
       "                        <td id=\"T_ee18eda6_56ae_11eb_b7c2_f4b7e2cc5002row0_col0\" class=\"data row0 col0\" >57.351677</td>\n",
       "                        <td id=\"T_ee18eda6_56ae_11eb_b7c2_f4b7e2cc5002row0_col1\" class=\"data row0 col1\" >0.839671</td>\n",
       "                        <td id=\"T_ee18eda6_56ae_11eb_b7c2_f4b7e2cc5002row0_col2\" class=\"data row0 col2\" >3.832783</td>\n",
       "                        <td id=\"T_ee18eda6_56ae_11eb_b7c2_f4b7e2cc5002row0_col3\" class=\"data row0 col3\" >132.960840</td>\n",
       "                        <td id=\"T_ee18eda6_56ae_11eb_b7c2_f4b7e2cc5002row0_col4\" class=\"data row0 col4\" >250.421858</td>\n",
       "                        <td id=\"T_ee18eda6_56ae_11eb_b7c2_f4b7e2cc5002row0_col5\" class=\"data row0 col5\" >0.186360</td>\n",
       "                        <td id=\"T_ee18eda6_56ae_11eb_b7c2_f4b7e2cc5002row0_col6\" class=\"data row0 col6\" >1.153776</td>\n",
       "                        <td id=\"T_ee18eda6_56ae_11eb_b7c2_f4b7e2cc5002row0_col7\" class=\"data row0 col7\" >136.068435</td>\n",
       "                        <td id=\"T_ee18eda6_56ae_11eb_b7c2_f4b7e2cc5002row0_col8\" class=\"data row0 col8\" >0.636414</td>\n",
       "                        <td id=\"T_ee18eda6_56ae_11eb_b7c2_f4b7e2cc5002row0_col9\" class=\"data row0 col9\" >1.681296</td>\n",
       "                        <td id=\"T_ee18eda6_56ae_11eb_b7c2_f4b7e2cc5002row0_col10\" class=\"data row0 col10\" >1.823876</td>\n",
       "                        <td id=\"T_ee18eda6_56ae_11eb_b7c2_f4b7e2cc5002row0_col11\" class=\"data row0 col11\" >1.275864</td>\n",
       "                        <td id=\"T_ee18eda6_56ae_11eb_b7c2_f4b7e2cc5002row0_col12\" class=\"data row0 col12\" >6.194487</td>\n",
       "            </tr>\n",
       "            <tr>\n",
       "                        <th id=\"T_ee18eda6_56ae_11eb_b7c2_f4b7e2cc5002level0_row1\" class=\"row_heading level0 row1\" >1</th>\n",
       "                        <td id=\"T_ee18eda6_56ae_11eb_b7c2_f4b7e2cc5002row1_col0\" class=\"data row1 col0\" >52.455576</td>\n",
       "                        <td id=\"T_ee18eda6_56ae_11eb_b7c2_f4b7e2cc5002row1_col1\" class=\"data row1 col1\" >0.571053</td>\n",
       "                        <td id=\"T_ee18eda6_56ae_11eb_b7c2_f4b7e2cc5002row1_col2\" class=\"data row1 col2\" >2.699219</td>\n",
       "                        <td id=\"T_ee18eda6_56ae_11eb_b7c2_f4b7e2cc5002row1_col3\" class=\"data row1 col3\" >130.824259</td>\n",
       "                        <td id=\"T_ee18eda6_56ae_11eb_b7c2_f4b7e2cc5002row1_col4\" class=\"data row1 col4\" >244.154025</td>\n",
       "                        <td id=\"T_ee18eda6_56ae_11eb_b7c2_f4b7e2cc5002row1_col5\" class=\"data row1 col5\" >0.122745</td>\n",
       "                        <td id=\"T_ee18eda6_56ae_11eb_b7c2_f4b7e2cc5002row1_col6\" class=\"data row1 col6\" >0.878646</td>\n",
       "                        <td id=\"T_ee18eda6_56ae_11eb_b7c2_f4b7e2cc5002row1_col7\" class=\"data row1 col7\" >158.826254</td>\n",
       "                        <td id=\"T_ee18eda6_56ae_11eb_b7c2_f4b7e2cc5002row1_col8\" class=\"data row1 col8\" >0.115861</td>\n",
       "                        <td id=\"T_ee18eda6_56ae_11eb_b7c2_f4b7e2cc5002row1_col9\" class=\"data row1 col9\" >0.602657</td>\n",
       "                        <td id=\"T_ee18eda6_56ae_11eb_b7c2_f4b7e2cc5002row1_col10\" class=\"data row1 col10\" >1.448665</td>\n",
       "                        <td id=\"T_ee18eda6_56ae_11eb_b7c2_f4b7e2cc5002row1_col11\" class=\"data row1 col11\" >0.246298</td>\n",
       "                        <td id=\"T_ee18eda6_56ae_11eb_b7c2_f4b7e2cc5002row1_col12\" class=\"data row1 col12\" >3.687352</td>\n",
       "            </tr>\n",
       "    </tbody></table>"
      ],
      "text/plain": [
       "<pandas.io.formats.style.Styler at 0x2197fdd0848>"
      ]
     },
     "metadata": {},
     "output_type": "display_data"
    },
    {
     "name": "stdout",
     "output_type": "stream",
     "text": [
      "Adjusted Rand Index of the GMM solution: 0.18389186035089963\n",
      "The silhoutte score of the GMM solution: 0.03924007666635825\n"
     ]
    },
    {
     "data": {
      "application/javascript": [
       "\n",
       "            setTimeout(function() {\n",
       "                var nbb_cell_id = 28;\n",
       "                var nbb_unformatted_code = \"gauss = GaussianMixture(n_components=2)\\ngauss.fit(scaled_df)\\n\\nprint(f\\\"Gauss scaled centroid points with 2 clusters:\\\\n {gauss.means_}\\\")\\n\\ncentroids = scaler.inverse_transform(gauss.means_)\\ncentroids_df = pd.DataFrame(centroids, columns=scaled_df.columns)\\nprint(\\\"\\\\n Gauss unscaled centroid points with 2 clusters\\\")\\ndisplay(centroids_df.style.background_gradient())\\n\\nclusters = gauss.fit_predict(scaled_df)\\n\\n\\nprint(\\n    \\\"Adjusted Rand Index of the GMM solution: {}\\\".format(\\n        metrics.adjusted_rand_score(y, clusters)\\n    )\\n)\\nprint(\\n    \\\"The silhoutte score of the GMM solution: {}\\\".format(\\n        metrics.silhouette_score(X, clusters, metric=\\\"euclidean\\\")\\n    )\\n)\";\n",
       "                var nbb_formatted_code = \"gauss = GaussianMixture(n_components=2)\\ngauss.fit(scaled_df)\\n\\nprint(f\\\"Gauss scaled centroid points with 2 clusters:\\\\n {gauss.means_}\\\")\\n\\ncentroids = scaler.inverse_transform(gauss.means_)\\ncentroids_df = pd.DataFrame(centroids, columns=scaled_df.columns)\\nprint(\\\"\\\\n Gauss unscaled centroid points with 2 clusters\\\")\\ndisplay(centroids_df.style.background_gradient())\\n\\nclusters = gauss.fit_predict(scaled_df)\\n\\n\\nprint(\\n    \\\"Adjusted Rand Index of the GMM solution: {}\\\".format(\\n        metrics.adjusted_rand_score(y, clusters)\\n    )\\n)\\nprint(\\n    \\\"The silhoutte score of the GMM solution: {}\\\".format(\\n        metrics.silhouette_score(X, clusters, metric=\\\"euclidean\\\")\\n    )\\n)\";\n",
       "                var nbb_cells = Jupyter.notebook.get_cells();\n",
       "                for (var i = 0; i < nbb_cells.length; ++i) {\n",
       "                    if (nbb_cells[i].input_prompt_number == nbb_cell_id) {\n",
       "                        if (nbb_cells[i].get_text() == nbb_unformatted_code) {\n",
       "                             nbb_cells[i].set_text(nbb_formatted_code);\n",
       "                        }\n",
       "                        break;\n",
       "                    }\n",
       "                }\n",
       "            }, 500);\n",
       "            "
      ],
      "text/plain": [
       "<IPython.core.display.Javascript object>"
      ]
     },
     "metadata": {},
     "output_type": "display_data"
    },
    {
     "data": {
      "application/javascript": [
       "\n",
       "            setTimeout(function() {\n",
       "                var nbb_cell_id = 28;\n",
       "                var nbb_unformatted_code = \"gauss = GaussianMixture(n_components=2)\\ngauss.fit(scaled_df)\\n\\nprint(f\\\"Gauss scaled centroid points with 2 clusters:\\\\n {gauss.means_}\\\")\\n\\ncentroids = scaler.inverse_transform(gauss.means_)\\ncentroids_df = pd.DataFrame(centroids, columns=scaled_df.columns)\\nprint(\\\"\\\\n Gauss unscaled centroid points with 2 clusters\\\")\\ndisplay(centroids_df.style.background_gradient())\\n\\nclusters = gauss.fit_predict(scaled_df)\\n\\n\\nprint(\\n    \\\"Adjusted Rand Index of the GMM solution: {}\\\".format(\\n        metrics.adjusted_rand_score(y, clusters)\\n    )\\n)\\nprint(\\n    \\\"The silhoutte score of the GMM solution: {}\\\".format(\\n        metrics.silhouette_score(X, clusters, metric=\\\"euclidean\\\")\\n    )\\n)\";\n",
       "                var nbb_formatted_code = \"gauss = GaussianMixture(n_components=2)\\ngauss.fit(scaled_df)\\n\\nprint(f\\\"Gauss scaled centroid points with 2 clusters:\\\\n {gauss.means_}\\\")\\n\\ncentroids = scaler.inverse_transform(gauss.means_)\\ncentroids_df = pd.DataFrame(centroids, columns=scaled_df.columns)\\nprint(\\\"\\\\n Gauss unscaled centroid points with 2 clusters\\\")\\ndisplay(centroids_df.style.background_gradient())\\n\\nclusters = gauss.fit_predict(scaled_df)\\n\\n\\nprint(\\n    \\\"Adjusted Rand Index of the GMM solution: {}\\\".format(\\n        metrics.adjusted_rand_score(y, clusters)\\n    )\\n)\\nprint(\\n    \\\"The silhoutte score of the GMM solution: {}\\\".format(\\n        metrics.silhouette_score(X, clusters, metric=\\\"euclidean\\\")\\n    )\\n)\";\n",
       "                var nbb_cells = Jupyter.notebook.get_cells();\n",
       "                for (var i = 0; i < nbb_cells.length; ++i) {\n",
       "                    if (nbb_cells[i].input_prompt_number == nbb_cell_id) {\n",
       "                        if (nbb_cells[i].get_text() == nbb_unformatted_code) {\n",
       "                             nbb_cells[i].set_text(nbb_formatted_code);\n",
       "                        }\n",
       "                        break;\n",
       "                    }\n",
       "                }\n",
       "            }, 500);\n",
       "            "
      ],
      "text/plain": [
       "<IPython.core.display.Javascript object>"
      ]
     },
     "metadata": {},
     "output_type": "display_data"
    },
    {
     "data": {
      "application/javascript": [
       "\n",
       "            setTimeout(function() {\n",
       "                var nbb_cell_id = 28;\n",
       "                var nbb_unformatted_code = \"gauss = GaussianMixture(n_components=2)\\ngauss.fit(scaled_df)\\n\\nprint(f\\\"Gauss scaled centroid points with 2 clusters:\\\\n {gauss.means_}\\\")\\n\\ncentroids = scaler.inverse_transform(gauss.means_)\\ncentroids_df = pd.DataFrame(centroids, columns=scaled_df.columns)\\nprint(\\\"\\\\n Gauss unscaled centroid points with 2 clusters\\\")\\ndisplay(centroids_df.style.background_gradient())\\n\\nclusters = gauss.fit_predict(scaled_df)\\n\\n\\nprint(\\n    \\\"Adjusted Rand Index of the GMM solution: {}\\\".format(\\n        metrics.adjusted_rand_score(y, clusters)\\n    )\\n)\\nprint(\\n    \\\"The silhoutte score of the GMM solution: {}\\\".format(\\n        metrics.silhouette_score(X, clusters, metric=\\\"euclidean\\\")\\n    )\\n)\";\n",
       "                var nbb_formatted_code = \"gauss = GaussianMixture(n_components=2)\\ngauss.fit(scaled_df)\\n\\nprint(f\\\"Gauss scaled centroid points with 2 clusters:\\\\n {gauss.means_}\\\")\\n\\ncentroids = scaler.inverse_transform(gauss.means_)\\ncentroids_df = pd.DataFrame(centroids, columns=scaled_df.columns)\\nprint(\\\"\\\\n Gauss unscaled centroid points with 2 clusters\\\")\\ndisplay(centroids_df.style.background_gradient())\\n\\nclusters = gauss.fit_predict(scaled_df)\\n\\n\\nprint(\\n    \\\"Adjusted Rand Index of the GMM solution: {}\\\".format(\\n        metrics.adjusted_rand_score(y, clusters)\\n    )\\n)\\nprint(\\n    \\\"The silhoutte score of the GMM solution: {}\\\".format(\\n        metrics.silhouette_score(X, clusters, metric=\\\"euclidean\\\")\\n    )\\n)\";\n",
       "                var nbb_cells = Jupyter.notebook.get_cells();\n",
       "                for (var i = 0; i < nbb_cells.length; ++i) {\n",
       "                    if (nbb_cells[i].input_prompt_number == nbb_cell_id) {\n",
       "                        if (nbb_cells[i].get_text() == nbb_unformatted_code) {\n",
       "                             nbb_cells[i].set_text(nbb_formatted_code);\n",
       "                        }\n",
       "                        break;\n",
       "                    }\n",
       "                }\n",
       "            }, 500);\n",
       "            "
      ],
      "text/plain": [
       "<IPython.core.display.Javascript object>"
      ]
     },
     "metadata": {},
     "output_type": "display_data"
    }
   ],
   "source": [
    "gauss = GaussianMixture(n_components=2)\n",
    "gauss.fit(scaled_df)\n",
    "\n",
    "print(f\"Gauss scaled centroid points with 2 clusters:\\n {gauss.means_}\")\n",
    "\n",
    "centroids = scaler.inverse_transform(gauss.means_)\n",
    "centroids_df = pd.DataFrame(centroids, columns=scaled_df.columns)\n",
    "print(\"\\n Gauss unscaled centroid points with 2 clusters\")\n",
    "display(centroids_df.style.background_gradient())\n",
    "\n",
    "clusters = gauss.fit_predict(scaled_df)\n",
    "\n",
    "\n",
    "print(\n",
    "    \"Adjusted Rand Index of the GMM solution: {}\".format(\n",
    "        metrics.adjusted_rand_score(y, clusters)\n",
    "    )\n",
    ")\n",
    "print(\n",
    "    \"The silhoutte score of the GMM solution: {}\".format(\n",
    "        metrics.silhouette_score(X, clusters, metric=\"euclidean\")\n",
    "    )\n",
    ")"
   ]
  },
  {
   "cell_type": "markdown",
   "metadata": {},
   "source": [
    "Gauss mixture doesnt have great scores."
   ]
  },
  {
   "cell_type": "code",
   "execution_count": 29,
   "metadata": {},
   "outputs": [
    {
     "name": "stdout",
     "output_type": "stream",
     "text": [
      "kmeans scaled centroid points with 2 clusters:\n",
      " [[-0.06385369 -0.10184842 -0.2675476  -0.0451155  -0.04271068 -0.01787913\n",
      "  -0.05912091  0.2633984  -0.69663055 -0.20078481 -0.17955539 -0.10156047\n",
      "  -0.2202288 ]\n",
      " [ 0.13157731  0.20986947  0.5513102   0.09296528  0.08800989  0.03684183\n",
      "   0.12182491 -0.54276033  1.43548113  0.4137384   0.36999292  0.20927611\n",
      "   0.4538048 ]]\n",
      "kmeans unscaled centroid points with 2 clusters\n"
     ]
    },
    {
     "data": {
      "text/html": [
       "<style  type=\"text/css\" >\n",
       "    #T_ee387f1e_56ae_11eb_82c3_f4b7e2cc5002row0_col0 {\n",
       "            background-color:  #023858;\n",
       "            color:  #f1f1f1;\n",
       "        }    #T_ee387f1e_56ae_11eb_82c3_f4b7e2cc5002row0_col1 {\n",
       "            background-color:  #023858;\n",
       "            color:  #f1f1f1;\n",
       "        }    #T_ee387f1e_56ae_11eb_82c3_f4b7e2cc5002row0_col2 {\n",
       "            background-color:  #023858;\n",
       "            color:  #f1f1f1;\n",
       "        }    #T_ee387f1e_56ae_11eb_82c3_f4b7e2cc5002row0_col3 {\n",
       "            background-color:  #023858;\n",
       "            color:  #f1f1f1;\n",
       "        }    #T_ee387f1e_56ae_11eb_82c3_f4b7e2cc5002row0_col4 {\n",
       "            background-color:  #023858;\n",
       "            color:  #f1f1f1;\n",
       "        }    #T_ee387f1e_56ae_11eb_82c3_f4b7e2cc5002row0_col5 {\n",
       "            background-color:  #023858;\n",
       "            color:  #f1f1f1;\n",
       "        }    #T_ee387f1e_56ae_11eb_82c3_f4b7e2cc5002row0_col6 {\n",
       "            background-color:  #023858;\n",
       "            color:  #f1f1f1;\n",
       "        }    #T_ee387f1e_56ae_11eb_82c3_f4b7e2cc5002row0_col7 {\n",
       "            background-color:  #fff7fb;\n",
       "            color:  #000000;\n",
       "        }    #T_ee387f1e_56ae_11eb_82c3_f4b7e2cc5002row0_col8 {\n",
       "            background-color:  #023858;\n",
       "            color:  #f1f1f1;\n",
       "        }    #T_ee387f1e_56ae_11eb_82c3_f4b7e2cc5002row0_col9 {\n",
       "            background-color:  #023858;\n",
       "            color:  #f1f1f1;\n",
       "        }    #T_ee387f1e_56ae_11eb_82c3_f4b7e2cc5002row0_col10 {\n",
       "            background-color:  #023858;\n",
       "            color:  #f1f1f1;\n",
       "        }    #T_ee387f1e_56ae_11eb_82c3_f4b7e2cc5002row0_col11 {\n",
       "            background-color:  #023858;\n",
       "            color:  #f1f1f1;\n",
       "        }    #T_ee387f1e_56ae_11eb_82c3_f4b7e2cc5002row0_col12 {\n",
       "            background-color:  #023858;\n",
       "            color:  #f1f1f1;\n",
       "        }    #T_ee387f1e_56ae_11eb_82c3_f4b7e2cc5002row1_col0 {\n",
       "            background-color:  #fff7fb;\n",
       "            color:  #000000;\n",
       "        }    #T_ee387f1e_56ae_11eb_82c3_f4b7e2cc5002row1_col1 {\n",
       "            background-color:  #fff7fb;\n",
       "            color:  #000000;\n",
       "        }    #T_ee387f1e_56ae_11eb_82c3_f4b7e2cc5002row1_col2 {\n",
       "            background-color:  #fff7fb;\n",
       "            color:  #000000;\n",
       "        }    #T_ee387f1e_56ae_11eb_82c3_f4b7e2cc5002row1_col3 {\n",
       "            background-color:  #fff7fb;\n",
       "            color:  #000000;\n",
       "        }    #T_ee387f1e_56ae_11eb_82c3_f4b7e2cc5002row1_col4 {\n",
       "            background-color:  #fff7fb;\n",
       "            color:  #000000;\n",
       "        }    #T_ee387f1e_56ae_11eb_82c3_f4b7e2cc5002row1_col5 {\n",
       "            background-color:  #fff7fb;\n",
       "            color:  #000000;\n",
       "        }    #T_ee387f1e_56ae_11eb_82c3_f4b7e2cc5002row1_col6 {\n",
       "            background-color:  #fff7fb;\n",
       "            color:  #000000;\n",
       "        }    #T_ee387f1e_56ae_11eb_82c3_f4b7e2cc5002row1_col7 {\n",
       "            background-color:  #023858;\n",
       "            color:  #f1f1f1;\n",
       "        }    #T_ee387f1e_56ae_11eb_82c3_f4b7e2cc5002row1_col8 {\n",
       "            background-color:  #fff7fb;\n",
       "            color:  #000000;\n",
       "        }    #T_ee387f1e_56ae_11eb_82c3_f4b7e2cc5002row1_col9 {\n",
       "            background-color:  #fff7fb;\n",
       "            color:  #000000;\n",
       "        }    #T_ee387f1e_56ae_11eb_82c3_f4b7e2cc5002row1_col10 {\n",
       "            background-color:  #fff7fb;\n",
       "            color:  #000000;\n",
       "        }    #T_ee387f1e_56ae_11eb_82c3_f4b7e2cc5002row1_col11 {\n",
       "            background-color:  #fff7fb;\n",
       "            color:  #000000;\n",
       "        }    #T_ee387f1e_56ae_11eb_82c3_f4b7e2cc5002row1_col12 {\n",
       "            background-color:  #fff7fb;\n",
       "            color:  #000000;\n",
       "        }</style><table id=\"T_ee387f1e_56ae_11eb_82c3_f4b7e2cc5002\" ><thead>    <tr>        <th class=\"blank level0\" ></th>        <th class=\"col_heading level0 col0\" >0</th>        <th class=\"col_heading level0 col1\" >1</th>        <th class=\"col_heading level0 col2\" >2</th>        <th class=\"col_heading level0 col3\" >3</th>        <th class=\"col_heading level0 col4\" >4</th>        <th class=\"col_heading level0 col5\" >5</th>        <th class=\"col_heading level0 col6\" >6</th>        <th class=\"col_heading level0 col7\" >7</th>        <th class=\"col_heading level0 col8\" >8</th>        <th class=\"col_heading level0 col9\" >9</th>        <th class=\"col_heading level0 col10\" >10</th>        <th class=\"col_heading level0 col11\" >11</th>        <th class=\"col_heading level0 col12\" >12</th>    </tr></thead><tbody>\n",
       "                <tr>\n",
       "                        <th id=\"T_ee387f1e_56ae_11eb_82c3_f4b7e2cc5002level0_row0\" class=\"row_heading level0 row0\" >0</th>\n",
       "                        <td id=\"T_ee387f1e_56ae_11eb_82c3_f4b7e2cc5002row0_col0\" class=\"data row0 col0\" >58.228070</td>\n",
       "                        <td id=\"T_ee387f1e_56ae_11eb_82c3_f4b7e2cc5002row0_col1\" class=\"data row0 col1\" >0.815789</td>\n",
       "                        <td id=\"T_ee387f1e_56ae_11eb_82c3_f4b7e2cc5002row0_col2\" class=\"data row0 col2\" >3.771930</td>\n",
       "                        <td id=\"T_ee387f1e_56ae_11eb_82c3_f4b7e2cc5002row0_col3\" class=\"data row0 col3\" >134.964912</td>\n",
       "                        <td id=\"T_ee387f1e_56ae_11eb_82c3_f4b7e2cc5002row0_col4\" class=\"data row0 col4\" >254.666667</td>\n",
       "                        <td id=\"T_ee387f1e_56ae_11eb_82c3_f4b7e2cc5002row0_col5\" class=\"data row0 col5\" >0.192982</td>\n",
       "                        <td id=\"T_ee387f1e_56ae_11eb_82c3_f4b7e2cc5002row0_col6\" class=\"data row0 col6\" >1.219298</td>\n",
       "                        <td id=\"T_ee387f1e_56ae_11eb_82c3_f4b7e2cc5002row0_col7\" class=\"data row0 col7\" >132.947368</td>\n",
       "                        <td id=\"T_ee387f1e_56ae_11eb_82c3_f4b7e2cc5002row0_col8\" class=\"data row0 col8\" >0.675439</td>\n",
       "                        <td id=\"T_ee387f1e_56ae_11eb_82c3_f4b7e2cc5002row0_col9\" class=\"data row0 col9\" >1.874561</td>\n",
       "                        <td id=\"T_ee387f1e_56ae_11eb_82c3_f4b7e2cc5002row0_col10\" class=\"data row0 col10\" >1.964912</td>\n",
       "                        <td id=\"T_ee387f1e_56ae_11eb_82c3_f4b7e2cc5002row0_col11\" class=\"data row0 col11\" >1.254386</td>\n",
       "                        <td id=\"T_ee387f1e_56ae_11eb_82c3_f4b7e2cc5002row0_col12\" class=\"data row0 col12\" >6.166667</td>\n",
       "            </tr>\n",
       "            <tr>\n",
       "                        <th id=\"T_ee387f1e_56ae_11eb_82c3_f4b7e2cc5002level0_row1\" class=\"row_heading level0 row1\" >1</th>\n",
       "                        <td id=\"T_ee387f1e_56ae_11eb_82c3_f4b7e2cc5002row1_col0\" class=\"data row1 col0\" >52.153439</td>\n",
       "                        <td id=\"T_ee387f1e_56ae_11eb_82c3_f4b7e2cc5002row1_col1\" class=\"data row1 col1\" >0.597884</td>\n",
       "                        <td id=\"T_ee387f1e_56ae_11eb_82c3_f4b7e2cc5002row1_col2\" class=\"data row1 col2\" >2.788360</td>\n",
       "                        <td id=\"T_ee387f1e_56ae_11eb_82c3_f4b7e2cc5002row1_col3\" class=\"data row1 col3\" >129.714286</td>\n",
       "                        <td id=\"T_ee387f1e_56ae_11eb_82c3_f4b7e2cc5002row1_col4\" class=\"data row1 col4\" >241.883598</td>\n",
       "                        <td id=\"T_ee387f1e_56ae_11eb_82c3_f4b7e2cc5002row1_col5\" class=\"data row1 col5\" >0.121693</td>\n",
       "                        <td id=\"T_ee387f1e_56ae_11eb_82c3_f4b7e2cc5002row1_col6\" class=\"data row1 col6\" >0.851852</td>\n",
       "                        <td id=\"T_ee387f1e_56ae_11eb_82c3_f4b7e2cc5002row1_col7\" class=\"data row1 col7\" >159.656085</td>\n",
       "                        <td id=\"T_ee387f1e_56ae_11eb_82c3_f4b7e2cc5002row1_col8\" class=\"data row1 col8\" >0.116402</td>\n",
       "                        <td id=\"T_ee387f1e_56ae_11eb_82c3_f4b7e2cc5002row1_col9\" class=\"data row1 col9\" >0.535979</td>\n",
       "                        <td id=\"T_ee387f1e_56ae_11eb_82c3_f4b7e2cc5002row1_col10\" class=\"data row1 col10\" >1.380952</td>\n",
       "                        <td id=\"T_ee387f1e_56ae_11eb_82c3_f4b7e2cc5002row1_col11\" class=\"data row1 col11\" >0.306878</td>\n",
       "                        <td id=\"T_ee387f1e_56ae_11eb_82c3_f4b7e2cc5002row1_col12\" class=\"data row1 col12\" >3.820106</td>\n",
       "            </tr>\n",
       "    </tbody></table>"
      ],
      "text/plain": [
       "<pandas.io.formats.style.Styler at 0x2197fb17388>"
      ]
     },
     "metadata": {},
     "output_type": "display_data"
    },
    {
     "name": "stdout",
     "output_type": "stream",
     "text": [
      "Adjusted Rand Index of the kmeans solution: 0.4380857727169879\n",
      "The silhoutte score of the kmeans solution: 0.09081949446607475\n"
     ]
    },
    {
     "data": {
      "application/javascript": [
       "\n",
       "            setTimeout(function() {\n",
       "                var nbb_cell_id = 29;\n",
       "                var nbb_unformatted_code = \"kmeans = KMeans(n_clusters=2)\\nkmeans.fit(scaled_df)\\n\\nprint(f\\\"kmeans scaled centroid points with 2 clusters:\\\\n {gauss.means_}\\\")\\n\\ncentroids = scaler.inverse_transform(kmeans.cluster_centers_)\\ncentroids_df = pd.DataFrame(centroids, columns=scaled_df.columns)\\nprint(\\\"kmeans unscaled centroid points with 2 clusters\\\")\\ndisplay(centroids_df.style.background_gradient())\\n\\nclusters = kmeans.fit_predict(scaled_df)\\n\\n\\nprint(\\n    \\\"Adjusted Rand Index of the kmeans solution: {}\\\".format(\\n        metrics.adjusted_rand_score(y, clusters)\\n    )\\n)\\nprint(\\n    \\\"The silhoutte score of the kmeans solution: {}\\\".format(\\n        metrics.silhouette_score(X, clusters, metric=\\\"euclidean\\\")\\n    )\\n)\";\n",
       "                var nbb_formatted_code = \"kmeans = KMeans(n_clusters=2)\\nkmeans.fit(scaled_df)\\n\\nprint(f\\\"kmeans scaled centroid points with 2 clusters:\\\\n {gauss.means_}\\\")\\n\\ncentroids = scaler.inverse_transform(kmeans.cluster_centers_)\\ncentroids_df = pd.DataFrame(centroids, columns=scaled_df.columns)\\nprint(\\\"kmeans unscaled centroid points with 2 clusters\\\")\\ndisplay(centroids_df.style.background_gradient())\\n\\nclusters = kmeans.fit_predict(scaled_df)\\n\\n\\nprint(\\n    \\\"Adjusted Rand Index of the kmeans solution: {}\\\".format(\\n        metrics.adjusted_rand_score(y, clusters)\\n    )\\n)\\nprint(\\n    \\\"The silhoutte score of the kmeans solution: {}\\\".format(\\n        metrics.silhouette_score(X, clusters, metric=\\\"euclidean\\\")\\n    )\\n)\";\n",
       "                var nbb_cells = Jupyter.notebook.get_cells();\n",
       "                for (var i = 0; i < nbb_cells.length; ++i) {\n",
       "                    if (nbb_cells[i].input_prompt_number == nbb_cell_id) {\n",
       "                        if (nbb_cells[i].get_text() == nbb_unformatted_code) {\n",
       "                             nbb_cells[i].set_text(nbb_formatted_code);\n",
       "                        }\n",
       "                        break;\n",
       "                    }\n",
       "                }\n",
       "            }, 500);\n",
       "            "
      ],
      "text/plain": [
       "<IPython.core.display.Javascript object>"
      ]
     },
     "metadata": {},
     "output_type": "display_data"
    },
    {
     "data": {
      "application/javascript": [
       "\n",
       "            setTimeout(function() {\n",
       "                var nbb_cell_id = 29;\n",
       "                var nbb_unformatted_code = \"kmeans = KMeans(n_clusters=2)\\nkmeans.fit(scaled_df)\\n\\nprint(f\\\"kmeans scaled centroid points with 2 clusters:\\\\n {gauss.means_}\\\")\\n\\ncentroids = scaler.inverse_transform(kmeans.cluster_centers_)\\ncentroids_df = pd.DataFrame(centroids, columns=scaled_df.columns)\\nprint(\\\"kmeans unscaled centroid points with 2 clusters\\\")\\ndisplay(centroids_df.style.background_gradient())\\n\\nclusters = kmeans.fit_predict(scaled_df)\\n\\n\\nprint(\\n    \\\"Adjusted Rand Index of the kmeans solution: {}\\\".format(\\n        metrics.adjusted_rand_score(y, clusters)\\n    )\\n)\\nprint(\\n    \\\"The silhoutte score of the kmeans solution: {}\\\".format(\\n        metrics.silhouette_score(X, clusters, metric=\\\"euclidean\\\")\\n    )\\n)\";\n",
       "                var nbb_formatted_code = \"kmeans = KMeans(n_clusters=2)\\nkmeans.fit(scaled_df)\\n\\nprint(f\\\"kmeans scaled centroid points with 2 clusters:\\\\n {gauss.means_}\\\")\\n\\ncentroids = scaler.inverse_transform(kmeans.cluster_centers_)\\ncentroids_df = pd.DataFrame(centroids, columns=scaled_df.columns)\\nprint(\\\"kmeans unscaled centroid points with 2 clusters\\\")\\ndisplay(centroids_df.style.background_gradient())\\n\\nclusters = kmeans.fit_predict(scaled_df)\\n\\n\\nprint(\\n    \\\"Adjusted Rand Index of the kmeans solution: {}\\\".format(\\n        metrics.adjusted_rand_score(y, clusters)\\n    )\\n)\\nprint(\\n    \\\"The silhoutte score of the kmeans solution: {}\\\".format(\\n        metrics.silhouette_score(X, clusters, metric=\\\"euclidean\\\")\\n    )\\n)\";\n",
       "                var nbb_cells = Jupyter.notebook.get_cells();\n",
       "                for (var i = 0; i < nbb_cells.length; ++i) {\n",
       "                    if (nbb_cells[i].input_prompt_number == nbb_cell_id) {\n",
       "                        if (nbb_cells[i].get_text() == nbb_unformatted_code) {\n",
       "                             nbb_cells[i].set_text(nbb_formatted_code);\n",
       "                        }\n",
       "                        break;\n",
       "                    }\n",
       "                }\n",
       "            }, 500);\n",
       "            "
      ],
      "text/plain": [
       "<IPython.core.display.Javascript object>"
      ]
     },
     "metadata": {},
     "output_type": "display_data"
    },
    {
     "data": {
      "application/javascript": [
       "\n",
       "            setTimeout(function() {\n",
       "                var nbb_cell_id = 29;\n",
       "                var nbb_unformatted_code = \"kmeans = KMeans(n_clusters=2)\\nkmeans.fit(scaled_df)\\n\\nprint(f\\\"kmeans scaled centroid points with 2 clusters:\\\\n {gauss.means_}\\\")\\n\\ncentroids = scaler.inverse_transform(kmeans.cluster_centers_)\\ncentroids_df = pd.DataFrame(centroids, columns=scaled_df.columns)\\nprint(\\\"kmeans unscaled centroid points with 2 clusters\\\")\\ndisplay(centroids_df.style.background_gradient())\\n\\nclusters = kmeans.fit_predict(scaled_df)\\n\\n\\nprint(\\n    \\\"Adjusted Rand Index of the kmeans solution: {}\\\".format(\\n        metrics.adjusted_rand_score(y, clusters)\\n    )\\n)\\nprint(\\n    \\\"The silhoutte score of the kmeans solution: {}\\\".format(\\n        metrics.silhouette_score(X, clusters, metric=\\\"euclidean\\\")\\n    )\\n)\";\n",
       "                var nbb_formatted_code = \"kmeans = KMeans(n_clusters=2)\\nkmeans.fit(scaled_df)\\n\\nprint(f\\\"kmeans scaled centroid points with 2 clusters:\\\\n {gauss.means_}\\\")\\n\\ncentroids = scaler.inverse_transform(kmeans.cluster_centers_)\\ncentroids_df = pd.DataFrame(centroids, columns=scaled_df.columns)\\nprint(\\\"kmeans unscaled centroid points with 2 clusters\\\")\\ndisplay(centroids_df.style.background_gradient())\\n\\nclusters = kmeans.fit_predict(scaled_df)\\n\\n\\nprint(\\n    \\\"Adjusted Rand Index of the kmeans solution: {}\\\".format(\\n        metrics.adjusted_rand_score(y, clusters)\\n    )\\n)\\nprint(\\n    \\\"The silhoutte score of the kmeans solution: {}\\\".format(\\n        metrics.silhouette_score(X, clusters, metric=\\\"euclidean\\\")\\n    )\\n)\";\n",
       "                var nbb_cells = Jupyter.notebook.get_cells();\n",
       "                for (var i = 0; i < nbb_cells.length; ++i) {\n",
       "                    if (nbb_cells[i].input_prompt_number == nbb_cell_id) {\n",
       "                        if (nbb_cells[i].get_text() == nbb_unformatted_code) {\n",
       "                             nbb_cells[i].set_text(nbb_formatted_code);\n",
       "                        }\n",
       "                        break;\n",
       "                    }\n",
       "                }\n",
       "            }, 500);\n",
       "            "
      ],
      "text/plain": [
       "<IPython.core.display.Javascript object>"
      ]
     },
     "metadata": {},
     "output_type": "display_data"
    }
   ],
   "source": [
    "kmeans = KMeans(n_clusters=2)\n",
    "kmeans.fit(scaled_df)\n",
    "\n",
    "print(f\"kmeans scaled centroid points with 2 clusters:\\n {gauss.means_}\")\n",
    "\n",
    "centroids = scaler.inverse_transform(kmeans.cluster_centers_)\n",
    "centroids_df = pd.DataFrame(centroids, columns=scaled_df.columns)\n",
    "print(\"kmeans unscaled centroid points with 2 clusters\")\n",
    "display(centroids_df.style.background_gradient())\n",
    "\n",
    "clusters = kmeans.fit_predict(scaled_df)\n",
    "\n",
    "\n",
    "print(\n",
    "    \"Adjusted Rand Index of the kmeans solution: {}\".format(\n",
    "        metrics.adjusted_rand_score(y, clusters)\n",
    "    )\n",
    ")\n",
    "print(\n",
    "    \"The silhoutte score of the kmeans solution: {}\".format(\n",
    "        metrics.silhouette_score(X, clusters, metric=\"euclidean\")\n",
    "    )\n",
    ")"
   ]
  },
  {
   "cell_type": "code",
   "execution_count": 30,
   "metadata": {},
   "outputs": [
    {
     "data": {
      "text/html": [
       "<style  type=\"text/css\" >\n",
       "    #T_ee561498_56ae_11eb_900d_f4b7e2cc5002row0_col0 {\n",
       "            background-color:  #fff7fb;\n",
       "            color:  #000000;\n",
       "        }    #T_ee561498_56ae_11eb_900d_f4b7e2cc5002row0_col1 {\n",
       "            background-color:  #fff7fb;\n",
       "            color:  #000000;\n",
       "        }    #T_ee561498_56ae_11eb_900d_f4b7e2cc5002row0_col2 {\n",
       "            background-color:  #fff7fb;\n",
       "            color:  #000000;\n",
       "        }    #T_ee561498_56ae_11eb_900d_f4b7e2cc5002row0_col3 {\n",
       "            background-color:  #fff7fb;\n",
       "            color:  #000000;\n",
       "        }    #T_ee561498_56ae_11eb_900d_f4b7e2cc5002row0_col4 {\n",
       "            background-color:  #fff7fb;\n",
       "            color:  #000000;\n",
       "        }    #T_ee561498_56ae_11eb_900d_f4b7e2cc5002row0_col5 {\n",
       "            background-color:  #023858;\n",
       "            color:  #f1f1f1;\n",
       "        }    #T_ee561498_56ae_11eb_900d_f4b7e2cc5002row0_col6 {\n",
       "            background-color:  #fff7fb;\n",
       "            color:  #000000;\n",
       "        }    #T_ee561498_56ae_11eb_900d_f4b7e2cc5002row0_col7 {\n",
       "            background-color:  #023858;\n",
       "            color:  #f1f1f1;\n",
       "        }    #T_ee561498_56ae_11eb_900d_f4b7e2cc5002row0_col8 {\n",
       "            background-color:  #fff7fb;\n",
       "            color:  #000000;\n",
       "        }    #T_ee561498_56ae_11eb_900d_f4b7e2cc5002row0_col9 {\n",
       "            background-color:  #fff7fb;\n",
       "            color:  #000000;\n",
       "        }    #T_ee561498_56ae_11eb_900d_f4b7e2cc5002row0_col10 {\n",
       "            background-color:  #fff7fb;\n",
       "            color:  #000000;\n",
       "        }    #T_ee561498_56ae_11eb_900d_f4b7e2cc5002row0_col11 {\n",
       "            background-color:  #fff7fb;\n",
       "            color:  #000000;\n",
       "        }    #T_ee561498_56ae_11eb_900d_f4b7e2cc5002row0_col12 {\n",
       "            background-color:  #fff7fb;\n",
       "            color:  #000000;\n",
       "        }    #T_ee561498_56ae_11eb_900d_f4b7e2cc5002row1_col0 {\n",
       "            background-color:  #023858;\n",
       "            color:  #f1f1f1;\n",
       "        }    #T_ee561498_56ae_11eb_900d_f4b7e2cc5002row1_col1 {\n",
       "            background-color:  #023858;\n",
       "            color:  #f1f1f1;\n",
       "        }    #T_ee561498_56ae_11eb_900d_f4b7e2cc5002row1_col2 {\n",
       "            background-color:  #023858;\n",
       "            color:  #f1f1f1;\n",
       "        }    #T_ee561498_56ae_11eb_900d_f4b7e2cc5002row1_col3 {\n",
       "            background-color:  #023858;\n",
       "            color:  #f1f1f1;\n",
       "        }    #T_ee561498_56ae_11eb_900d_f4b7e2cc5002row1_col4 {\n",
       "            background-color:  #023858;\n",
       "            color:  #f1f1f1;\n",
       "        }    #T_ee561498_56ae_11eb_900d_f4b7e2cc5002row1_col5 {\n",
       "            background-color:  #fff7fb;\n",
       "            color:  #000000;\n",
       "        }    #T_ee561498_56ae_11eb_900d_f4b7e2cc5002row1_col6 {\n",
       "            background-color:  #023858;\n",
       "            color:  #f1f1f1;\n",
       "        }    #T_ee561498_56ae_11eb_900d_f4b7e2cc5002row1_col7 {\n",
       "            background-color:  #fff7fb;\n",
       "            color:  #000000;\n",
       "        }    #T_ee561498_56ae_11eb_900d_f4b7e2cc5002row1_col8 {\n",
       "            background-color:  #023858;\n",
       "            color:  #f1f1f1;\n",
       "        }    #T_ee561498_56ae_11eb_900d_f4b7e2cc5002row1_col9 {\n",
       "            background-color:  #023858;\n",
       "            color:  #f1f1f1;\n",
       "        }    #T_ee561498_56ae_11eb_900d_f4b7e2cc5002row1_col10 {\n",
       "            background-color:  #023858;\n",
       "            color:  #f1f1f1;\n",
       "        }    #T_ee561498_56ae_11eb_900d_f4b7e2cc5002row1_col11 {\n",
       "            background-color:  #023858;\n",
       "            color:  #f1f1f1;\n",
       "        }    #T_ee561498_56ae_11eb_900d_f4b7e2cc5002row1_col12 {\n",
       "            background-color:  #023858;\n",
       "            color:  #f1f1f1;\n",
       "        }</style><table id=\"T_ee561498_56ae_11eb_900d_f4b7e2cc5002\" ><thead>    <tr>        <th class=\"blank level0\" ></th>        <th class=\"col_heading level0 col0\" >0</th>        <th class=\"col_heading level0 col1\" >1</th>        <th class=\"col_heading level0 col2\" >2</th>        <th class=\"col_heading level0 col3\" >3</th>        <th class=\"col_heading level0 col4\" >4</th>        <th class=\"col_heading level0 col5\" >5</th>        <th class=\"col_heading level0 col6\" >6</th>        <th class=\"col_heading level0 col7\" >7</th>        <th class=\"col_heading level0 col8\" >8</th>        <th class=\"col_heading level0 col9\" >9</th>        <th class=\"col_heading level0 col10\" >10</th>        <th class=\"col_heading level0 col11\" >11</th>        <th class=\"col_heading level0 col12\" >12</th>    </tr>    <tr>        <th class=\"index_name level0\" >Labels</th>        <th class=\"blank\" ></th>        <th class=\"blank\" ></th>        <th class=\"blank\" ></th>        <th class=\"blank\" ></th>        <th class=\"blank\" ></th>        <th class=\"blank\" ></th>        <th class=\"blank\" ></th>        <th class=\"blank\" ></th>        <th class=\"blank\" ></th>        <th class=\"blank\" ></th>        <th class=\"blank\" ></th>        <th class=\"blank\" ></th>        <th class=\"blank\" ></th>    </tr></thead><tbody>\n",
       "                <tr>\n",
       "                        <th id=\"T_ee561498_56ae_11eb_900d_f4b7e2cc5002level0_row0\" class=\"row_heading level0 row0\" >0</th>\n",
       "                        <td id=\"T_ee561498_56ae_11eb_900d_f4b7e2cc5002row0_col0\" class=\"data row0 col0\" >-0.255776</td>\n",
       "                        <td id=\"T_ee561498_56ae_11eb_900d_f4b7e2cc5002row0_col1\" class=\"data row0 col1\" >-0.043260</td>\n",
       "                        <td id=\"T_ee561498_56ae_11eb_900d_f4b7e2cc5002row0_col2\" class=\"data row0 col2\" >-0.345516</td>\n",
       "                        <td id=\"T_ee561498_56ae_11eb_900d_f4b7e2cc5002row0_col3\" class=\"data row0 col3\" >-0.057135</td>\n",
       "                        <td id=\"T_ee561498_56ae_11eb_900d_f4b7e2cc5002row0_col4\" class=\"data row0 col4\" >-0.076104</td>\n",
       "                        <td id=\"T_ee561498_56ae_11eb_900d_f4b7e2cc5002row0_col5\" class=\"data row0 col5\" >0.053498</td>\n",
       "                        <td id=\"T_ee561498_56ae_11eb_900d_f4b7e2cc5002row0_col6\" class=\"data row0 col6\" >-0.100719</td>\n",
       "                        <td id=\"T_ee561498_56ae_11eb_900d_f4b7e2cc5002row0_col7\" class=\"data row0 col7\" >0.465395</td>\n",
       "                        <td id=\"T_ee561498_56ae_11eb_900d_f4b7e2cc5002row0_col8\" class=\"data row0 col8\" >-0.462210</td>\n",
       "                        <td id=\"T_ee561498_56ae_11eb_900d_f4b7e2cc5002row0_col9\" class=\"data row0 col9\" >-0.382406</td>\n",
       "                        <td id=\"T_ee561498_56ae_11eb_900d_f4b7e2cc5002row0_col10\" class=\"data row0 col10\" >-0.363611</td>\n",
       "                        <td id=\"T_ee561498_56ae_11eb_900d_f4b7e2cc5002row0_col11\" class=\"data row0 col11\" >-0.284575</td>\n",
       "                        <td id=\"T_ee561498_56ae_11eb_900d_f4b7e2cc5002row0_col12\" class=\"data row0 col12\" >-0.277420</td>\n",
       "            </tr>\n",
       "            <tr>\n",
       "                        <th id=\"T_ee561498_56ae_11eb_900d_f4b7e2cc5002level0_row1\" class=\"row_heading level0 row1\" >1</th>\n",
       "                        <td id=\"T_ee561498_56ae_11eb_900d_f4b7e2cc5002row1_col0\" class=\"data row1 col0\" >0.436189</td>\n",
       "                        <td id=\"T_ee561498_56ae_11eb_900d_f4b7e2cc5002row1_col1\" class=\"data row1 col1\" >0.073774</td>\n",
       "                        <td id=\"T_ee561498_56ae_11eb_900d_f4b7e2cc5002row1_col2\" class=\"data row1 col2\" >0.589228</td>\n",
       "                        <td id=\"T_ee561498_56ae_11eb_900d_f4b7e2cc5002row1_col3\" class=\"data row1 col3\" >0.097436</td>\n",
       "                        <td id=\"T_ee561498_56ae_11eb_900d_f4b7e2cc5002row1_col4\" class=\"data row1 col4\" >0.129784</td>\n",
       "                        <td id=\"T_ee561498_56ae_11eb_900d_f4b7e2cc5002row1_col5\" class=\"data row1 col5\" >-0.091233</td>\n",
       "                        <td id=\"T_ee561498_56ae_11eb_900d_f4b7e2cc5002row1_col6\" class=\"data row1 col6\" >0.171761</td>\n",
       "                        <td id=\"T_ee561498_56ae_11eb_900d_f4b7e2cc5002row1_col7\" class=\"data row1 col7\" >-0.793666</td>\n",
       "                        <td id=\"T_ee561498_56ae_11eb_900d_f4b7e2cc5002row1_col8\" class=\"data row1 col8\" >0.788233</td>\n",
       "                        <td id=\"T_ee561498_56ae_11eb_900d_f4b7e2cc5002row1_col9\" class=\"data row1 col9\" >0.652139</td>\n",
       "                        <td id=\"T_ee561498_56ae_11eb_900d_f4b7e2cc5002row1_col10\" class=\"data row1 col10\" >0.620087</td>\n",
       "                        <td id=\"T_ee561498_56ae_11eb_900d_f4b7e2cc5002row1_col11\" class=\"data row1 col11\" >0.485302</td>\n",
       "                        <td id=\"T_ee561498_56ae_11eb_900d_f4b7e2cc5002row1_col12\" class=\"data row1 col12\" >0.473100</td>\n",
       "            </tr>\n",
       "    </tbody></table>"
      ],
      "text/plain": [
       "<pandas.io.formats.style.Styler at 0x2197f2d69c8>"
      ]
     },
     "metadata": {},
     "output_type": "display_data"
    },
    {
     "name": "stdout",
     "output_type": "stream",
     "text": [
      "Adjusted Rand Index of the Heirarchical solution: 0.22645337051449754\n",
      "The silhoutte score of the Heirarchical solution: 0.08005124221301219\n"
     ]
    },
    {
     "data": {
      "application/javascript": [
       "\n",
       "            setTimeout(function() {\n",
       "                var nbb_cell_id = 30;\n",
       "                var nbb_unformatted_code = \"dist_mat = squareform(pdist(scaled_df, metric=\\\"euclidean\\\"))\\ndist_mat = pd.DataFrame(dist_mat, columns=scaled_df.index, index=scaled_df.index)\\ndist_mat\\n\\nclst = AgglomerativeClustering(n_clusters=2, affinity=\\\"cosine\\\", linkage=\\\"average\\\")\\nclst.fit(scaled_df)\\n\\n\\nscaled_df[\\\"Labels\\\"] = clst.labels_\\nclst_avg = scaled_df.groupby(\\\"Labels\\\").mean()\\ndisplay(clst_avg.style.background_gradient())\\n# print(f\\\"Heirarchical scaled centroid points with 2 clusters:\\\\n {clst.labels_}\\\")\\n\\n# centroids = scaler.inverse_transform(clst.labels_)\\n# centroids_df = pd.DataFrame(centroids, columns=scaled_df.columns)\\n# print(\\\"\\\\n Gauss unscaled centroid points with 2 clusters\\\")\\n# display(centroids_df.style.background_gradient())\\n\\nclusters = clst.fit_predict(scaled_df)\\n\\n\\nprint(\\n    \\\"Adjusted Rand Index of the Heirarchical solution: {}\\\".format(\\n        metrics.adjusted_rand_score(y, clusters)\\n    )\\n)\\nprint(\\n    \\\"The silhoutte score of the Heirarchical solution: {}\\\".format(\\n        metrics.silhouette_score(X, clusters, metric=\\\"euclidean\\\")\\n    )\\n)\";\n",
       "                var nbb_formatted_code = \"dist_mat = squareform(pdist(scaled_df, metric=\\\"euclidean\\\"))\\ndist_mat = pd.DataFrame(dist_mat, columns=scaled_df.index, index=scaled_df.index)\\ndist_mat\\n\\nclst = AgglomerativeClustering(n_clusters=2, affinity=\\\"cosine\\\", linkage=\\\"average\\\")\\nclst.fit(scaled_df)\\n\\n\\nscaled_df[\\\"Labels\\\"] = clst.labels_\\nclst_avg = scaled_df.groupby(\\\"Labels\\\").mean()\\ndisplay(clst_avg.style.background_gradient())\\n# print(f\\\"Heirarchical scaled centroid points with 2 clusters:\\\\n {clst.labels_}\\\")\\n\\n# centroids = scaler.inverse_transform(clst.labels_)\\n# centroids_df = pd.DataFrame(centroids, columns=scaled_df.columns)\\n# print(\\\"\\\\n Gauss unscaled centroid points with 2 clusters\\\")\\n# display(centroids_df.style.background_gradient())\\n\\nclusters = clst.fit_predict(scaled_df)\\n\\n\\nprint(\\n    \\\"Adjusted Rand Index of the Heirarchical solution: {}\\\".format(\\n        metrics.adjusted_rand_score(y, clusters)\\n    )\\n)\\nprint(\\n    \\\"The silhoutte score of the Heirarchical solution: {}\\\".format(\\n        metrics.silhouette_score(X, clusters, metric=\\\"euclidean\\\")\\n    )\\n)\";\n",
       "                var nbb_cells = Jupyter.notebook.get_cells();\n",
       "                for (var i = 0; i < nbb_cells.length; ++i) {\n",
       "                    if (nbb_cells[i].input_prompt_number == nbb_cell_id) {\n",
       "                        if (nbb_cells[i].get_text() == nbb_unformatted_code) {\n",
       "                             nbb_cells[i].set_text(nbb_formatted_code);\n",
       "                        }\n",
       "                        break;\n",
       "                    }\n",
       "                }\n",
       "            }, 500);\n",
       "            "
      ],
      "text/plain": [
       "<IPython.core.display.Javascript object>"
      ]
     },
     "metadata": {},
     "output_type": "display_data"
    },
    {
     "data": {
      "application/javascript": [
       "\n",
       "            setTimeout(function() {\n",
       "                var nbb_cell_id = 30;\n",
       "                var nbb_unformatted_code = \"dist_mat = squareform(pdist(scaled_df, metric=\\\"euclidean\\\"))\\ndist_mat = pd.DataFrame(dist_mat, columns=scaled_df.index, index=scaled_df.index)\\ndist_mat\\n\\nclst = AgglomerativeClustering(n_clusters=2, affinity=\\\"cosine\\\", linkage=\\\"average\\\")\\nclst.fit(scaled_df)\\n\\n\\nscaled_df[\\\"Labels\\\"] = clst.labels_\\nclst_avg = scaled_df.groupby(\\\"Labels\\\").mean()\\ndisplay(clst_avg.style.background_gradient())\\n# print(f\\\"Heirarchical scaled centroid points with 2 clusters:\\\\n {clst.labels_}\\\")\\n\\n# centroids = scaler.inverse_transform(clst.labels_)\\n# centroids_df = pd.DataFrame(centroids, columns=scaled_df.columns)\\n# print(\\\"\\\\n Gauss unscaled centroid points with 2 clusters\\\")\\n# display(centroids_df.style.background_gradient())\\n\\nclusters = clst.fit_predict(scaled_df)\\n\\n\\nprint(\\n    \\\"Adjusted Rand Index of the Heirarchical solution: {}\\\".format(\\n        metrics.adjusted_rand_score(y, clusters)\\n    )\\n)\\nprint(\\n    \\\"The silhoutte score of the Heirarchical solution: {}\\\".format(\\n        metrics.silhouette_score(X, clusters, metric=\\\"euclidean\\\")\\n    )\\n)\";\n",
       "                var nbb_formatted_code = \"dist_mat = squareform(pdist(scaled_df, metric=\\\"euclidean\\\"))\\ndist_mat = pd.DataFrame(dist_mat, columns=scaled_df.index, index=scaled_df.index)\\ndist_mat\\n\\nclst = AgglomerativeClustering(n_clusters=2, affinity=\\\"cosine\\\", linkage=\\\"average\\\")\\nclst.fit(scaled_df)\\n\\n\\nscaled_df[\\\"Labels\\\"] = clst.labels_\\nclst_avg = scaled_df.groupby(\\\"Labels\\\").mean()\\ndisplay(clst_avg.style.background_gradient())\\n# print(f\\\"Heirarchical scaled centroid points with 2 clusters:\\\\n {clst.labels_}\\\")\\n\\n# centroids = scaler.inverse_transform(clst.labels_)\\n# centroids_df = pd.DataFrame(centroids, columns=scaled_df.columns)\\n# print(\\\"\\\\n Gauss unscaled centroid points with 2 clusters\\\")\\n# display(centroids_df.style.background_gradient())\\n\\nclusters = clst.fit_predict(scaled_df)\\n\\n\\nprint(\\n    \\\"Adjusted Rand Index of the Heirarchical solution: {}\\\".format(\\n        metrics.adjusted_rand_score(y, clusters)\\n    )\\n)\\nprint(\\n    \\\"The silhoutte score of the Heirarchical solution: {}\\\".format(\\n        metrics.silhouette_score(X, clusters, metric=\\\"euclidean\\\")\\n    )\\n)\";\n",
       "                var nbb_cells = Jupyter.notebook.get_cells();\n",
       "                for (var i = 0; i < nbb_cells.length; ++i) {\n",
       "                    if (nbb_cells[i].input_prompt_number == nbb_cell_id) {\n",
       "                        if (nbb_cells[i].get_text() == nbb_unformatted_code) {\n",
       "                             nbb_cells[i].set_text(nbb_formatted_code);\n",
       "                        }\n",
       "                        break;\n",
       "                    }\n",
       "                }\n",
       "            }, 500);\n",
       "            "
      ],
      "text/plain": [
       "<IPython.core.display.Javascript object>"
      ]
     },
     "metadata": {},
     "output_type": "display_data"
    },
    {
     "data": {
      "application/javascript": [
       "\n",
       "            setTimeout(function() {\n",
       "                var nbb_cell_id = 30;\n",
       "                var nbb_unformatted_code = \"dist_mat = squareform(pdist(scaled_df, metric=\\\"euclidean\\\"))\\ndist_mat = pd.DataFrame(dist_mat, columns=scaled_df.index, index=scaled_df.index)\\ndist_mat\\n\\nclst = AgglomerativeClustering(n_clusters=2, affinity=\\\"cosine\\\", linkage=\\\"average\\\")\\nclst.fit(scaled_df)\\n\\n\\nscaled_df[\\\"Labels\\\"] = clst.labels_\\nclst_avg = scaled_df.groupby(\\\"Labels\\\").mean()\\ndisplay(clst_avg.style.background_gradient())\\n# print(f\\\"Heirarchical scaled centroid points with 2 clusters:\\\\n {clst.labels_}\\\")\\n\\n# centroids = scaler.inverse_transform(clst.labels_)\\n# centroids_df = pd.DataFrame(centroids, columns=scaled_df.columns)\\n# print(\\\"\\\\n Gauss unscaled centroid points with 2 clusters\\\")\\n# display(centroids_df.style.background_gradient())\\n\\nclusters = clst.fit_predict(scaled_df)\\n\\n\\nprint(\\n    \\\"Adjusted Rand Index of the Heirarchical solution: {}\\\".format(\\n        metrics.adjusted_rand_score(y, clusters)\\n    )\\n)\\nprint(\\n    \\\"The silhoutte score of the Heirarchical solution: {}\\\".format(\\n        metrics.silhouette_score(X, clusters, metric=\\\"euclidean\\\")\\n    )\\n)\";\n",
       "                var nbb_formatted_code = \"dist_mat = squareform(pdist(scaled_df, metric=\\\"euclidean\\\"))\\ndist_mat = pd.DataFrame(dist_mat, columns=scaled_df.index, index=scaled_df.index)\\ndist_mat\\n\\nclst = AgglomerativeClustering(n_clusters=2, affinity=\\\"cosine\\\", linkage=\\\"average\\\")\\nclst.fit(scaled_df)\\n\\n\\nscaled_df[\\\"Labels\\\"] = clst.labels_\\nclst_avg = scaled_df.groupby(\\\"Labels\\\").mean()\\ndisplay(clst_avg.style.background_gradient())\\n# print(f\\\"Heirarchical scaled centroid points with 2 clusters:\\\\n {clst.labels_}\\\")\\n\\n# centroids = scaler.inverse_transform(clst.labels_)\\n# centroids_df = pd.DataFrame(centroids, columns=scaled_df.columns)\\n# print(\\\"\\\\n Gauss unscaled centroid points with 2 clusters\\\")\\n# display(centroids_df.style.background_gradient())\\n\\nclusters = clst.fit_predict(scaled_df)\\n\\n\\nprint(\\n    \\\"Adjusted Rand Index of the Heirarchical solution: {}\\\".format(\\n        metrics.adjusted_rand_score(y, clusters)\\n    )\\n)\\nprint(\\n    \\\"The silhoutte score of the Heirarchical solution: {}\\\".format(\\n        metrics.silhouette_score(X, clusters, metric=\\\"euclidean\\\")\\n    )\\n)\";\n",
       "                var nbb_cells = Jupyter.notebook.get_cells();\n",
       "                for (var i = 0; i < nbb_cells.length; ++i) {\n",
       "                    if (nbb_cells[i].input_prompt_number == nbb_cell_id) {\n",
       "                        if (nbb_cells[i].get_text() == nbb_unformatted_code) {\n",
       "                             nbb_cells[i].set_text(nbb_formatted_code);\n",
       "                        }\n",
       "                        break;\n",
       "                    }\n",
       "                }\n",
       "            }, 500);\n",
       "            "
      ],
      "text/plain": [
       "<IPython.core.display.Javascript object>"
      ]
     },
     "metadata": {},
     "output_type": "display_data"
    }
   ],
   "source": [
    "dist_mat = squareform(pdist(scaled_df, metric=\"euclidean\"))\n",
    "dist_mat = pd.DataFrame(dist_mat, columns=scaled_df.index, index=scaled_df.index)\n",
    "dist_mat\n",
    "\n",
    "clst = AgglomerativeClustering(n_clusters=2, affinity=\"cosine\", linkage=\"average\")\n",
    "clst.fit(scaled_df)\n",
    "\n",
    "\n",
    "scaled_df[\"Labels\"] = clst.labels_\n",
    "clst_avg = scaled_df.groupby(\"Labels\").mean()\n",
    "display(clst_avg.style.background_gradient())\n",
    "# print(f\"Heirarchical scaled centroid points with 2 clusters:\\n {clst.labels_}\")\n",
    "\n",
    "# centroids = scaler.inverse_transform(clst.labels_)\n",
    "# centroids_df = pd.DataFrame(centroids, columns=scaled_df.columns)\n",
    "# print(\"\\n Gauss unscaled centroid points with 2 clusters\")\n",
    "# display(centroids_df.style.background_gradient())\n",
    "\n",
    "clusters = clst.fit_predict(scaled_df)\n",
    "\n",
    "\n",
    "print(\n",
    "    \"Adjusted Rand Index of the Heirarchical solution: {}\".format(\n",
    "        metrics.adjusted_rand_score(y, clusters)\n",
    "    )\n",
    ")\n",
    "print(\n",
    "    \"The silhoutte score of the Heirarchical solution: {}\".format(\n",
    "        metrics.silhouette_score(X, clusters, metric=\"euclidean\")\n",
    "    )\n",
    ")"
   ]
  },
  {
   "cell_type": "markdown",
   "metadata": {},
   "source": [
    "Kmeans has the best scores."
   ]
  },
  {
   "cell_type": "markdown",
   "metadata": {},
   "source": [
    "### 2. GMM implementation of scikit-learn has a parameter called covariance_type. \n",
    "This parameter determines the type of covariance parameters to use. \n",
    "There are four types that you can specify:\n",
    "1. full: This is the default. Each component has its own general covariance matrix.\n",
    "2. tied: All components share the same general covariance matrix.\n",
    "3. diag: Each component has its own diagonal covariance matrix.\n",
    "4. spherical: Each component has its own single variance.\n",
    "\n",
    "Try all of these. Which one performs best in terms of ARI and silhouette scores?"
   ]
  },
  {
   "cell_type": "code",
   "execution_count": 32,
   "metadata": {},
   "outputs": [
    {
     "data": {
      "text/html": [
       "<div>\n",
       "<style scoped>\n",
       "    .dataframe tbody tr th:only-of-type {\n",
       "        vertical-align: middle;\n",
       "    }\n",
       "\n",
       "    .dataframe tbody tr th {\n",
       "        vertical-align: top;\n",
       "    }\n",
       "\n",
       "    .dataframe thead th {\n",
       "        text-align: right;\n",
       "    }\n",
       "</style>\n",
       "<table border=\"1\" class=\"dataframe\">\n",
       "  <thead>\n",
       "    <tr style=\"text-align: right;\">\n",
       "      <th></th>\n",
       "      <th>0</th>\n",
       "      <th>1</th>\n",
       "      <th>2</th>\n",
       "      <th>3</th>\n",
       "      <th>4</th>\n",
       "      <th>5</th>\n",
       "      <th>6</th>\n",
       "      <th>7</th>\n",
       "      <th>8</th>\n",
       "      <th>9</th>\n",
       "      <th>10</th>\n",
       "      <th>11</th>\n",
       "      <th>12</th>\n",
       "    </tr>\n",
       "  </thead>\n",
       "  <tbody>\n",
       "    <tr>\n",
       "      <th>0</th>\n",
       "      <td>0.948726</td>\n",
       "      <td>0.686202</td>\n",
       "      <td>-2.251775</td>\n",
       "      <td>0.757525</td>\n",
       "      <td>-0.264900</td>\n",
       "      <td>2.394438</td>\n",
       "      <td>1.016684</td>\n",
       "      <td>0.017197</td>\n",
       "      <td>-0.696631</td>\n",
       "      <td>1.087338</td>\n",
       "      <td>2.274579</td>\n",
       "      <td>-0.711131</td>\n",
       "      <td>0.659133</td>\n",
       "    </tr>\n",
       "    <tr>\n",
       "      <th>1</th>\n",
       "      <td>1.392002</td>\n",
       "      <td>0.686202</td>\n",
       "      <td>0.877985</td>\n",
       "      <td>1.611220</td>\n",
       "      <td>0.760415</td>\n",
       "      <td>-0.417635</td>\n",
       "      <td>1.016684</td>\n",
       "      <td>-1.821905</td>\n",
       "      <td>1.435481</td>\n",
       "      <td>0.397182</td>\n",
       "      <td>0.649113</td>\n",
       "      <td>2.504881</td>\n",
       "      <td>-0.865426</td>\n",
       "    </tr>\n",
       "    <tr>\n",
       "      <th>2</th>\n",
       "      <td>1.392002</td>\n",
       "      <td>0.686202</td>\n",
       "      <td>0.877985</td>\n",
       "      <td>-0.665300</td>\n",
       "      <td>-0.342283</td>\n",
       "      <td>-0.417635</td>\n",
       "      <td>1.016684</td>\n",
       "      <td>-0.902354</td>\n",
       "      <td>1.435481</td>\n",
       "      <td>1.346147</td>\n",
       "      <td>0.649113</td>\n",
       "      <td>1.432877</td>\n",
       "      <td>1.167319</td>\n",
       "    </tr>\n",
       "    <tr>\n",
       "      <th>3</th>\n",
       "      <td>-1.932564</td>\n",
       "      <td>0.686202</td>\n",
       "      <td>-0.165268</td>\n",
       "      <td>-0.096170</td>\n",
       "      <td>0.063974</td>\n",
       "      <td>-0.417635</td>\n",
       "      <td>-0.996749</td>\n",
       "      <td>1.637359</td>\n",
       "      <td>-0.696631</td>\n",
       "      <td>2.122573</td>\n",
       "      <td>2.274579</td>\n",
       "      <td>-0.711131</td>\n",
       "      <td>-0.865426</td>\n",
       "    </tr>\n",
       "    <tr>\n",
       "      <th>4</th>\n",
       "      <td>-1.489288</td>\n",
       "      <td>-1.457296</td>\n",
       "      <td>-1.208521</td>\n",
       "      <td>-0.096170</td>\n",
       "      <td>-0.825922</td>\n",
       "      <td>-0.417635</td>\n",
       "      <td>1.016684</td>\n",
       "      <td>0.980537</td>\n",
       "      <td>-0.696631</td>\n",
       "      <td>0.310912</td>\n",
       "      <td>-0.976352</td>\n",
       "      <td>-0.711131</td>\n",
       "      <td>-0.865426</td>\n",
       "    </tr>\n",
       "  </tbody>\n",
       "</table>\n",
       "</div>"
      ],
      "text/plain": [
       "          0         1         2         3         4         5         6  \\\n",
       "0  0.948726  0.686202 -2.251775  0.757525 -0.264900  2.394438  1.016684   \n",
       "1  1.392002  0.686202  0.877985  1.611220  0.760415 -0.417635  1.016684   \n",
       "2  1.392002  0.686202  0.877985 -0.665300 -0.342283 -0.417635  1.016684   \n",
       "3 -1.932564  0.686202 -0.165268 -0.096170  0.063974 -0.417635 -0.996749   \n",
       "4 -1.489288 -1.457296 -1.208521 -0.096170 -0.825922 -0.417635  1.016684   \n",
       "\n",
       "          7         8         9        10        11        12  \n",
       "0  0.017197 -0.696631  1.087338  2.274579 -0.711131  0.659133  \n",
       "1 -1.821905  1.435481  0.397182  0.649113  2.504881 -0.865426  \n",
       "2 -0.902354  1.435481  1.346147  0.649113  1.432877  1.167319  \n",
       "3  1.637359 -0.696631  2.122573  2.274579 -0.711131 -0.865426  \n",
       "4  0.980537 -0.696631  0.310912 -0.976352 -0.711131 -0.865426  "
      ]
     },
     "execution_count": 32,
     "metadata": {},
     "output_type": "execute_result"
    },
    {
     "data": {
      "application/javascript": [
       "\n",
       "            setTimeout(function() {\n",
       "                var nbb_cell_id = 32;\n",
       "                var nbb_unformatted_code = \"X = df.iloc[:, :13]\\ny = df.iloc[:, 13]\\n\\n# Replace missing values (marked by `?`) with a `0`\\nX = X.replace(to_replace=\\\"?\\\", value=0)\\n\\n# Binarize `y` so that `1` means heart disease diagnosis and `0` means no diagnosis\\ny = np.where(y > 0, 0, 1)\\n\\nscaler = StandardScaler()\\nscaled = scaler.fit_transform(X)\\nscaled_df = pd.DataFrame(scaled, columns=X.columns)\\nscaled_df.head()\";\n",
       "                var nbb_formatted_code = \"X = df.iloc[:, :13]\\ny = df.iloc[:, 13]\\n\\n# Replace missing values (marked by `?`) with a `0`\\nX = X.replace(to_replace=\\\"?\\\", value=0)\\n\\n# Binarize `y` so that `1` means heart disease diagnosis and `0` means no diagnosis\\ny = np.where(y > 0, 0, 1)\\n\\nscaler = StandardScaler()\\nscaled = scaler.fit_transform(X)\\nscaled_df = pd.DataFrame(scaled, columns=X.columns)\\nscaled_df.head()\";\n",
       "                var nbb_cells = Jupyter.notebook.get_cells();\n",
       "                for (var i = 0; i < nbb_cells.length; ++i) {\n",
       "                    if (nbb_cells[i].input_prompt_number == nbb_cell_id) {\n",
       "                        if (nbb_cells[i].get_text() == nbb_unformatted_code) {\n",
       "                             nbb_cells[i].set_text(nbb_formatted_code);\n",
       "                        }\n",
       "                        break;\n",
       "                    }\n",
       "                }\n",
       "            }, 500);\n",
       "            "
      ],
      "text/plain": [
       "<IPython.core.display.Javascript object>"
      ]
     },
     "metadata": {},
     "output_type": "display_data"
    },
    {
     "data": {
      "application/javascript": [
       "\n",
       "            setTimeout(function() {\n",
       "                var nbb_cell_id = 32;\n",
       "                var nbb_unformatted_code = \"X = df.iloc[:, :13]\\ny = df.iloc[:, 13]\\n\\n# Replace missing values (marked by `?`) with a `0`\\nX = X.replace(to_replace=\\\"?\\\", value=0)\\n\\n# Binarize `y` so that `1` means heart disease diagnosis and `0` means no diagnosis\\ny = np.where(y > 0, 0, 1)\\n\\nscaler = StandardScaler()\\nscaled = scaler.fit_transform(X)\\nscaled_df = pd.DataFrame(scaled, columns=X.columns)\\nscaled_df.head()\";\n",
       "                var nbb_formatted_code = \"X = df.iloc[:, :13]\\ny = df.iloc[:, 13]\\n\\n# Replace missing values (marked by `?`) with a `0`\\nX = X.replace(to_replace=\\\"?\\\", value=0)\\n\\n# Binarize `y` so that `1` means heart disease diagnosis and `0` means no diagnosis\\ny = np.where(y > 0, 0, 1)\\n\\nscaler = StandardScaler()\\nscaled = scaler.fit_transform(X)\\nscaled_df = pd.DataFrame(scaled, columns=X.columns)\\nscaled_df.head()\";\n",
       "                var nbb_cells = Jupyter.notebook.get_cells();\n",
       "                for (var i = 0; i < nbb_cells.length; ++i) {\n",
       "                    if (nbb_cells[i].input_prompt_number == nbb_cell_id) {\n",
       "                        if (nbb_cells[i].get_text() == nbb_unformatted_code) {\n",
       "                             nbb_cells[i].set_text(nbb_formatted_code);\n",
       "                        }\n",
       "                        break;\n",
       "                    }\n",
       "                }\n",
       "            }, 500);\n",
       "            "
      ],
      "text/plain": [
       "<IPython.core.display.Javascript object>"
      ]
     },
     "metadata": {},
     "output_type": "display_data"
    },
    {
     "data": {
      "application/javascript": [
       "\n",
       "            setTimeout(function() {\n",
       "                var nbb_cell_id = 32;\n",
       "                var nbb_unformatted_code = \"X = df.iloc[:, :13]\\ny = df.iloc[:, 13]\\n\\n# Replace missing values (marked by `?`) with a `0`\\nX = X.replace(to_replace=\\\"?\\\", value=0)\\n\\n# Binarize `y` so that `1` means heart disease diagnosis and `0` means no diagnosis\\ny = np.where(y > 0, 0, 1)\\n\\nscaler = StandardScaler()\\nscaled = scaler.fit_transform(X)\\nscaled_df = pd.DataFrame(scaled, columns=X.columns)\\nscaled_df.head()\";\n",
       "                var nbb_formatted_code = \"X = df.iloc[:, :13]\\ny = df.iloc[:, 13]\\n\\n# Replace missing values (marked by `?`) with a `0`\\nX = X.replace(to_replace=\\\"?\\\", value=0)\\n\\n# Binarize `y` so that `1` means heart disease diagnosis and `0` means no diagnosis\\ny = np.where(y > 0, 0, 1)\\n\\nscaler = StandardScaler()\\nscaled = scaler.fit_transform(X)\\nscaled_df = pd.DataFrame(scaled, columns=X.columns)\\nscaled_df.head()\";\n",
       "                var nbb_cells = Jupyter.notebook.get_cells();\n",
       "                for (var i = 0; i < nbb_cells.length; ++i) {\n",
       "                    if (nbb_cells[i].input_prompt_number == nbb_cell_id) {\n",
       "                        if (nbb_cells[i].get_text() == nbb_unformatted_code) {\n",
       "                             nbb_cells[i].set_text(nbb_formatted_code);\n",
       "                        }\n",
       "                        break;\n",
       "                    }\n",
       "                }\n",
       "            }, 500);\n",
       "            "
      ],
      "text/plain": [
       "<IPython.core.display.Javascript object>"
      ]
     },
     "metadata": {},
     "output_type": "display_data"
    }
   ],
   "source": [
    "X = df.iloc[:, :13]\n",
    "y = df.iloc[:, 13]\n",
    "\n",
    "# Replace missing values (marked by `?`) with a `0`\n",
    "X = X.replace(to_replace=\"?\", value=0)\n",
    "\n",
    "# Binarize `y` so that `1` means heart disease diagnosis and `0` means no diagnosis\n",
    "y = np.where(y > 0, 0, 1)\n",
    "\n",
    "scaler = StandardScaler()\n",
    "scaled = scaler.fit_transform(X)\n",
    "scaled_df = pd.DataFrame(scaled, columns=X.columns)\n",
    "scaled_df.head()"
   ]
  },
  {
   "cell_type": "code",
   "execution_count": 51,
   "metadata": {},
   "outputs": [
    {
     "name": "stdout",
     "output_type": "stream",
     "text": [
      "GMM with cov type full:\n",
      "Adjusted Rand Index of the GMM solution: 0.18389186035089963\n",
      "The silhoutte score of the GMM solution: 0.03924007666635825\n",
      "GMM with cov type tied:\n",
      "Adjusted Rand Index of the GMM solution: 0.18389186035089963\n",
      "The silhoutte score of the GMM solution: 0.03924007666635825\n",
      "GMM with cov type diag:\n",
      "Adjusted Rand Index of the GMM solution: 0.3870024156200561\n",
      "The silhoutte score of the GMM solution: 0.06867625547193433\n",
      "GMM with cov type spherical:\n",
      "Adjusted Rand Index of the GMM solution: 0.20765243525722465\n",
      "The silhoutte score of the GMM solution: 0.047221690719502496\n"
     ]
    },
    {
     "data": {
      "application/javascript": [
       "\n",
       "            setTimeout(function() {\n",
       "                var nbb_cell_id = 51;\n",
       "                var nbb_unformatted_code = \"ctypes = [\\\"full\\\", \\\"tied\\\", \\\"diag\\\", \\\"spherical\\\"]\\nfor i in ctypes:\\n    gauss = GaussianMixture(n_components=2, covariance_type=i)\\n    gauss.fit(scaled_df)\\n\\n    # print(f\\\"GMM with covariance type {i} means\\\\n {gauss.means_}\\\")\\n\\n    centroids = scaler.inverse_transform(gauss.means_)\\n    centroids_df = pd.DataFrame(centroids, columns=scaled_df.columns)\\n    print(f\\\"GMM with cov type {i}:\\\")\\n    # display(centroids_df.style.background_gradient())\\n\\n    clusters = gauss.fit_predict(scaled_df)\\n\\n    print(\\n        \\\"Adjusted Rand Index of the GMM solution: {}\\\".format(\\n            metrics.adjusted_rand_score(y, clusters)\\n        )\\n    )\\n    print(\\n        \\\"The silhoutte score of the GMM solution: {}\\\".format(\\n            metrics.silhouette_score(X, clusters, metric=\\\"euclidean\\\")\\n        )\\n    )\";\n",
       "                var nbb_formatted_code = \"ctypes = [\\\"full\\\", \\\"tied\\\", \\\"diag\\\", \\\"spherical\\\"]\\nfor i in ctypes:\\n    gauss = GaussianMixture(n_components=2, covariance_type=i)\\n    gauss.fit(scaled_df)\\n\\n    # print(f\\\"GMM with covariance type {i} means\\\\n {gauss.means_}\\\")\\n\\n    centroids = scaler.inverse_transform(gauss.means_)\\n    centroids_df = pd.DataFrame(centroids, columns=scaled_df.columns)\\n    print(f\\\"GMM with cov type {i}:\\\")\\n    # display(centroids_df.style.background_gradient())\\n\\n    clusters = gauss.fit_predict(scaled_df)\\n\\n    print(\\n        \\\"Adjusted Rand Index of the GMM solution: {}\\\".format(\\n            metrics.adjusted_rand_score(y, clusters)\\n        )\\n    )\\n    print(\\n        \\\"The silhoutte score of the GMM solution: {}\\\".format(\\n            metrics.silhouette_score(X, clusters, metric=\\\"euclidean\\\")\\n        )\\n    )\";\n",
       "                var nbb_cells = Jupyter.notebook.get_cells();\n",
       "                for (var i = 0; i < nbb_cells.length; ++i) {\n",
       "                    if (nbb_cells[i].input_prompt_number == nbb_cell_id) {\n",
       "                        if (nbb_cells[i].get_text() == nbb_unformatted_code) {\n",
       "                             nbb_cells[i].set_text(nbb_formatted_code);\n",
       "                        }\n",
       "                        break;\n",
       "                    }\n",
       "                }\n",
       "            }, 500);\n",
       "            "
      ],
      "text/plain": [
       "<IPython.core.display.Javascript object>"
      ]
     },
     "metadata": {},
     "output_type": "display_data"
    },
    {
     "data": {
      "application/javascript": [
       "\n",
       "            setTimeout(function() {\n",
       "                var nbb_cell_id = 51;\n",
       "                var nbb_unformatted_code = \"ctypes = [\\\"full\\\", \\\"tied\\\", \\\"diag\\\", \\\"spherical\\\"]\\nfor i in ctypes:\\n    gauss = GaussianMixture(n_components=2, covariance_type=i)\\n    gauss.fit(scaled_df)\\n\\n    # print(f\\\"GMM with covariance type {i} means\\\\n {gauss.means_}\\\")\\n\\n    centroids = scaler.inverse_transform(gauss.means_)\\n    centroids_df = pd.DataFrame(centroids, columns=scaled_df.columns)\\n    print(f\\\"GMM with cov type {i}:\\\")\\n    # display(centroids_df.style.background_gradient())\\n\\n    clusters = gauss.fit_predict(scaled_df)\\n\\n    print(\\n        \\\"Adjusted Rand Index of the GMM solution: {}\\\".format(\\n            metrics.adjusted_rand_score(y, clusters)\\n        )\\n    )\\n    print(\\n        \\\"The silhoutte score of the GMM solution: {}\\\".format(\\n            metrics.silhouette_score(X, clusters, metric=\\\"euclidean\\\")\\n        )\\n    )\";\n",
       "                var nbb_formatted_code = \"ctypes = [\\\"full\\\", \\\"tied\\\", \\\"diag\\\", \\\"spherical\\\"]\\nfor i in ctypes:\\n    gauss = GaussianMixture(n_components=2, covariance_type=i)\\n    gauss.fit(scaled_df)\\n\\n    # print(f\\\"GMM with covariance type {i} means\\\\n {gauss.means_}\\\")\\n\\n    centroids = scaler.inverse_transform(gauss.means_)\\n    centroids_df = pd.DataFrame(centroids, columns=scaled_df.columns)\\n    print(f\\\"GMM with cov type {i}:\\\")\\n    # display(centroids_df.style.background_gradient())\\n\\n    clusters = gauss.fit_predict(scaled_df)\\n\\n    print(\\n        \\\"Adjusted Rand Index of the GMM solution: {}\\\".format(\\n            metrics.adjusted_rand_score(y, clusters)\\n        )\\n    )\\n    print(\\n        \\\"The silhoutte score of the GMM solution: {}\\\".format(\\n            metrics.silhouette_score(X, clusters, metric=\\\"euclidean\\\")\\n        )\\n    )\";\n",
       "                var nbb_cells = Jupyter.notebook.get_cells();\n",
       "                for (var i = 0; i < nbb_cells.length; ++i) {\n",
       "                    if (nbb_cells[i].input_prompt_number == nbb_cell_id) {\n",
       "                        if (nbb_cells[i].get_text() == nbb_unformatted_code) {\n",
       "                             nbb_cells[i].set_text(nbb_formatted_code);\n",
       "                        }\n",
       "                        break;\n",
       "                    }\n",
       "                }\n",
       "            }, 500);\n",
       "            "
      ],
      "text/plain": [
       "<IPython.core.display.Javascript object>"
      ]
     },
     "metadata": {},
     "output_type": "display_data"
    },
    {
     "data": {
      "application/javascript": [
       "\n",
       "            setTimeout(function() {\n",
       "                var nbb_cell_id = 51;\n",
       "                var nbb_unformatted_code = \"ctypes = [\\\"full\\\", \\\"tied\\\", \\\"diag\\\", \\\"spherical\\\"]\\nfor i in ctypes:\\n    gauss = GaussianMixture(n_components=2, covariance_type=i)\\n    gauss.fit(scaled_df)\\n\\n    # print(f\\\"GMM with covariance type {i} means\\\\n {gauss.means_}\\\")\\n\\n    centroids = scaler.inverse_transform(gauss.means_)\\n    centroids_df = pd.DataFrame(centroids, columns=scaled_df.columns)\\n    print(f\\\"GMM with cov type {i}:\\\")\\n    # display(centroids_df.style.background_gradient())\\n\\n    clusters = gauss.fit_predict(scaled_df)\\n\\n    print(\\n        \\\"Adjusted Rand Index of the GMM solution: {}\\\".format(\\n            metrics.adjusted_rand_score(y, clusters)\\n        )\\n    )\\n    print(\\n        \\\"The silhoutte score of the GMM solution: {}\\\".format(\\n            metrics.silhouette_score(X, clusters, metric=\\\"euclidean\\\")\\n        )\\n    )\";\n",
       "                var nbb_formatted_code = \"ctypes = [\\\"full\\\", \\\"tied\\\", \\\"diag\\\", \\\"spherical\\\"]\\nfor i in ctypes:\\n    gauss = GaussianMixture(n_components=2, covariance_type=i)\\n    gauss.fit(scaled_df)\\n\\n    # print(f\\\"GMM with covariance type {i} means\\\\n {gauss.means_}\\\")\\n\\n    centroids = scaler.inverse_transform(gauss.means_)\\n    centroids_df = pd.DataFrame(centroids, columns=scaled_df.columns)\\n    print(f\\\"GMM with cov type {i}:\\\")\\n    # display(centroids_df.style.background_gradient())\\n\\n    clusters = gauss.fit_predict(scaled_df)\\n\\n    print(\\n        \\\"Adjusted Rand Index of the GMM solution: {}\\\".format(\\n            metrics.adjusted_rand_score(y, clusters)\\n        )\\n    )\\n    print(\\n        \\\"The silhoutte score of the GMM solution: {}\\\".format(\\n            metrics.silhouette_score(X, clusters, metric=\\\"euclidean\\\")\\n        )\\n    )\";\n",
       "                var nbb_cells = Jupyter.notebook.get_cells();\n",
       "                for (var i = 0; i < nbb_cells.length; ++i) {\n",
       "                    if (nbb_cells[i].input_prompt_number == nbb_cell_id) {\n",
       "                        if (nbb_cells[i].get_text() == nbb_unformatted_code) {\n",
       "                             nbb_cells[i].set_text(nbb_formatted_code);\n",
       "                        }\n",
       "                        break;\n",
       "                    }\n",
       "                }\n",
       "            }, 500);\n",
       "            "
      ],
      "text/plain": [
       "<IPython.core.display.Javascript object>"
      ]
     },
     "metadata": {},
     "output_type": "display_data"
    }
   ],
   "source": [
    "ctypes = [\"full\", \"tied\", \"diag\", \"spherical\"]\n",
    "for i in ctypes:\n",
    "    gauss = GaussianMixture(n_components=2, covariance_type=i)\n",
    "    gauss.fit(scaled_df)\n",
    "\n",
    "    # print(f\"GMM with covariance type {i} means\\n {gauss.means_}\")\n",
    "\n",
    "    centroids = scaler.inverse_transform(gauss.means_)\n",
    "    centroids_df = pd.DataFrame(centroids, columns=scaled_df.columns)\n",
    "    print(f\"GMM with cov type {i}:\")\n",
    "    # display(centroids_df.style.background_gradient())\n",
    "\n",
    "    clusters = gauss.fit_predict(scaled_df)\n",
    "\n",
    "    print(\n",
    "        \"Adjusted Rand Index of the GMM solution: {}\".format(\n",
    "            metrics.adjusted_rand_score(y, clusters)\n",
    "        )\n",
    "    )\n",
    "    print(\n",
    "        \"The silhoutte score of the GMM solution: {}\".format(\n",
    "            metrics.silhouette_score(X, clusters, metric=\"euclidean\")\n",
    "        )\n",
    "    )"
   ]
  },
  {
   "cell_type": "markdown",
   "metadata": {},
   "source": [
    "Diag has the best scores."
   ]
  },
  {
   "cell_type": "code",
   "execution_count": null,
   "metadata": {},
   "outputs": [],
   "source": []
  }
 ],
 "metadata": {
  "kernelspec": {
   "display_name": "Python 3",
   "language": "python",
   "name": "python3"
  },
  "language_info": {
   "codemirror_mode": {
    "name": "ipython",
    "version": 3
   },
   "file_extension": ".py",
   "mimetype": "text/x-python",
   "name": "python",
   "nbconvert_exporter": "python",
   "pygments_lexer": "ipython3",
   "version": "3.7.7"
  }
 },
 "nbformat": 4,
 "nbformat_minor": 4
}
